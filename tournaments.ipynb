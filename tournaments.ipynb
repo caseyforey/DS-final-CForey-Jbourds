{
 "cells": [
  {
   "cell_type": "code",
   "execution_count": 1,
   "metadata": {},
   "outputs": [
    {
     "data": {
      "text/plain": [
       "'\\ntournaments.ipynb\\n\\nJupyter Notebook to perform analysis on card market data.\\n\\nAuthor: Casey Forey\\nDate Created: 4/7/24\\n'"
      ]
     },
     "execution_count": 1,
     "metadata": {},
     "output_type": "execute_result"
    }
   ],
   "source": [
    "\"\"\"\n",
    "tournaments.ipynb\n",
    "\n",
    "Jupyter Notebook to perform analysis on card market data.\n",
    "\n",
    "Author: Casey Forey\n",
    "Date Created: 4/7/24\n",
    "\"\"\""
   ]
  },
  {
   "cell_type": "code",
   "execution_count": 2,
   "metadata": {},
   "outputs": [],
   "source": [
    "# Imports\n",
    "import json \n",
    "import os \n",
    "import pandas as pd\n",
    "import matplotlib.pyplot as plt\n",
    "import seaborn as sns\n",
    "\n",
    "import src.constants as c\n",
    "import src.load.load_tournament_data as ltd\n",
    "import src.plot.plot_set_data as psd\n",
    "import src.plot.plot_tournament_data as ptd"
   ]
  },
  {
   "cell_type": "code",
   "execution_count": 3,
   "metadata": {},
   "outputs": [],
   "source": [
    "path = 'data/AtomicCards.json' \n",
    "f = open(path, encoding= \"utf8\") \n",
    "atm_cards = json.load(f)\n",
    "\n",
    "path = 'data/AllPrintings.json' \n",
    "f = open(path, encoding= \"utf8\") \n",
    "all_cards = json.load(f)\n",
    "\n",
    "path = 'data/AllPricesToday.json' \n",
    "f = open(path) \n",
    "prices = json.load(f)\n",
    "\n",
    "path = 'data/SetList.json' \n",
    "f = open(path, encoding= \"utf8\") \n",
    "set_list = json.load(f)"
   ]
  },
  {
   "cell_type": "markdown",
   "metadata": {},
   "source": [
    "## Modern Data"
   ]
  },
  {
   "cell_type": "code",
   "execution_count": 4,
   "metadata": {},
   "outputs": [
    {
     "data": {
      "text/html": [
       "<div>\n",
       "<style scoped>\n",
       "    .dataframe tbody tr th:only-of-type {\n",
       "        vertical-align: middle;\n",
       "    }\n",
       "\n",
       "    .dataframe tbody tr th {\n",
       "        vertical-align: top;\n",
       "    }\n",
       "\n",
       "    .dataframe thead th {\n",
       "        text-align: right;\n",
       "    }\n",
       "</style>\n",
       "<table border=\"1\" class=\"dataframe\">\n",
       "  <thead>\n",
       "    <tr style=\"text-align: right;\">\n",
       "      <th></th>\n",
       "      <th>card_name</th>\n",
       "      <th>total_count</th>\n",
       "    </tr>\n",
       "  </thead>\n",
       "  <tbody>\n",
       "    <tr>\n",
       "      <th>0</th>\n",
       "      <td>Steam Vents</td>\n",
       "      <td>7516</td>\n",
       "    </tr>\n",
       "    <tr>\n",
       "      <th>1</th>\n",
       "      <td>Misty Rainforest</td>\n",
       "      <td>9509</td>\n",
       "    </tr>\n",
       "    <tr>\n",
       "      <th>2</th>\n",
       "      <td>Lightning Bolt</td>\n",
       "      <td>13268</td>\n",
       "    </tr>\n",
       "    <tr>\n",
       "      <th>3</th>\n",
       "      <td>Spell Snare</td>\n",
       "      <td>853</td>\n",
       "    </tr>\n",
       "    <tr>\n",
       "      <th>4</th>\n",
       "      <td>Polluted Delta</td>\n",
       "      <td>5732</td>\n",
       "    </tr>\n",
       "    <tr>\n",
       "      <th>...</th>\n",
       "      <td>...</td>\n",
       "      <td>...</td>\n",
       "    </tr>\n",
       "    <tr>\n",
       "      <th>1733</th>\n",
       "      <td>Royal Treatment</td>\n",
       "      <td>4</td>\n",
       "    </tr>\n",
       "    <tr>\n",
       "      <th>1734</th>\n",
       "      <td>Unravel the Aether</td>\n",
       "      <td>1</td>\n",
       "    </tr>\n",
       "    <tr>\n",
       "      <th>1735</th>\n",
       "      <td>Callous Sell-Sword</td>\n",
       "      <td>3</td>\n",
       "    </tr>\n",
       "    <tr>\n",
       "      <th>1736</th>\n",
       "      <td>Bloodthorn Flail</td>\n",
       "      <td>2</td>\n",
       "    </tr>\n",
       "    <tr>\n",
       "      <th>1737</th>\n",
       "      <td>Mirrorpool</td>\n",
       "      <td>1</td>\n",
       "    </tr>\n",
       "  </tbody>\n",
       "</table>\n",
       "<p>1738 rows × 2 columns</p>\n",
       "</div>"
      ],
      "text/plain": [
       "               card_name  total_count\n",
       "0            Steam Vents         7516\n",
       "1       Misty Rainforest         9509\n",
       "2         Lightning Bolt        13268\n",
       "3            Spell Snare          853\n",
       "4         Polluted Delta         5732\n",
       "...                  ...          ...\n",
       "1733     Royal Treatment            4\n",
       "1734  Unravel the Aether            1\n",
       "1735  Callous Sell-Sword            3\n",
       "1736    Bloodthorn Flail            2\n",
       "1737          Mirrorpool            1\n",
       "\n",
       "[1738 rows x 2 columns]"
      ]
     },
     "execution_count": 4,
     "metadata": {},
     "output_type": "execute_result"
    }
   ],
   "source": [
    "base_path: str = os.path.join(c.DATA_DIRECTORY, '2023')\n",
    "modern_card_counts_df: pd.DataFrame = ltd.load_format_card_counts(base_path, 'modern')\n",
    "modern_card_counts_df"
   ]
  },
  {
   "cell_type": "code",
   "execution_count": 5,
   "metadata": {},
   "outputs": [
    {
     "name": "stdout",
     "output_type": "stream",
     "text": [
      "42\n"
     ]
    }
   ],
   "source": [
    "data = atm_cards['data']\n",
    "cards_set = {}\n",
    "i = 0\n",
    "for card in data:\n",
    "    card_info = data[card][0]\n",
    "    if 'firstPrinting' in card_info:\n",
    "        cards_set[card] = card_info['firstPrinting']\n",
    "    else:\n",
    "        i +=1\n",
    "print(i)"
   ]
  },
  {
   "cell_type": "code",
   "execution_count": 6,
   "metadata": {},
   "outputs": [
    {
     "data": {
      "text/html": [
       "<div>\n",
       "<style scoped>\n",
       "    .dataframe tbody tr th:only-of-type {\n",
       "        vertical-align: middle;\n",
       "    }\n",
       "\n",
       "    .dataframe tbody tr th {\n",
       "        vertical-align: top;\n",
       "    }\n",
       "\n",
       "    .dataframe thead th {\n",
       "        text-align: right;\n",
       "    }\n",
       "</style>\n",
       "<table border=\"1\" class=\"dataframe\">\n",
       "  <thead>\n",
       "    <tr style=\"text-align: right;\">\n",
       "      <th></th>\n",
       "      <th>card_name</th>\n",
       "      <th>set_name</th>\n",
       "    </tr>\n",
       "  </thead>\n",
       "  <tbody>\n",
       "    <tr>\n",
       "      <th>0</th>\n",
       "      <td>\"Ach! Hans, Run!\"</td>\n",
       "      <td>UNH</td>\n",
       "    </tr>\n",
       "    <tr>\n",
       "      <th>1</th>\n",
       "      <td>\"Brims\" Barone, Midway Mobster</td>\n",
       "      <td>UNF</td>\n",
       "    </tr>\n",
       "    <tr>\n",
       "      <th>2</th>\n",
       "      <td>\"Lifetime\" Pass Holder</td>\n",
       "      <td>UNF</td>\n",
       "    </tr>\n",
       "    <tr>\n",
       "      <th>3</th>\n",
       "      <td>\"Name Sticker\" Goblin</td>\n",
       "      <td>UNF</td>\n",
       "    </tr>\n",
       "    <tr>\n",
       "      <th>4</th>\n",
       "      <td>\"Rumors of My Death . . .\"</td>\n",
       "      <td>UST</td>\n",
       "    </tr>\n",
       "    <tr>\n",
       "      <th>...</th>\n",
       "      <td>...</td>\n",
       "      <td>...</td>\n",
       "    </tr>\n",
       "    <tr>\n",
       "      <th>28629</th>\n",
       "      <td>Éomer, King of Rohan</td>\n",
       "      <td>LTC</td>\n",
       "    </tr>\n",
       "    <tr>\n",
       "      <th>28630</th>\n",
       "      <td>Éomer, Marshal of Rohan</td>\n",
       "      <td>LTR</td>\n",
       "    </tr>\n",
       "    <tr>\n",
       "      <th>28631</th>\n",
       "      <td>Éowyn, Fearless Knight</td>\n",
       "      <td>LTR</td>\n",
       "    </tr>\n",
       "    <tr>\n",
       "      <th>28632</th>\n",
       "      <td>Éowyn, Lady of Rohan</td>\n",
       "      <td>LTR</td>\n",
       "    </tr>\n",
       "    <tr>\n",
       "      <th>28633</th>\n",
       "      <td>Éowyn, Shieldmaiden</td>\n",
       "      <td>LTC</td>\n",
       "    </tr>\n",
       "  </tbody>\n",
       "</table>\n",
       "<p>28634 rows × 2 columns</p>\n",
       "</div>"
      ],
      "text/plain": [
       "                            card_name set_name\n",
       "0                   \"Ach! Hans, Run!\"      UNH\n",
       "1      \"Brims\" Barone, Midway Mobster      UNF\n",
       "2              \"Lifetime\" Pass Holder      UNF\n",
       "3               \"Name Sticker\" Goblin      UNF\n",
       "4          \"Rumors of My Death . . .\"      UST\n",
       "...                               ...      ...\n",
       "28629            Éomer, King of Rohan      LTC\n",
       "28630         Éomer, Marshal of Rohan      LTR\n",
       "28631          Éowyn, Fearless Knight      LTR\n",
       "28632            Éowyn, Lady of Rohan      LTR\n",
       "28633             Éowyn, Shieldmaiden      LTC\n",
       "\n",
       "[28634 rows x 2 columns]"
      ]
     },
     "execution_count": 6,
     "metadata": {},
     "output_type": "execute_result"
    }
   ],
   "source": [
    "cards_set_df = pd.DataFrame.from_dict(cards_set, orient='index')\n",
    "cards_set_df.reset_index(inplace= True) \n",
    "cards_set_df.rename(columns={'index': 'card_name', 0:'set_name'},inplace= True) \n",
    "cards_set_df"
   ]
  },
  {
   "cell_type": "code",
   "execution_count": 7,
   "metadata": {},
   "outputs": [],
   "source": [
    "def add_back_face(df):\n",
    "    for card in df['card_name']:\n",
    "        for name in cards_set_df['card_name']:\n",
    "            front_name = name.split('//')[0].strip()\n",
    "            if card == front_name and '//' in name:\n",
    "                df['card_name'].replace(card, name,inplace = True)\n",
    "    return df"
   ]
  },
  {
   "cell_type": "code",
   "execution_count": 8,
   "metadata": {},
   "outputs": [
    {
     "data": {
      "text/html": [
       "<div>\n",
       "<style scoped>\n",
       "    .dataframe tbody tr th:only-of-type {\n",
       "        vertical-align: middle;\n",
       "    }\n",
       "\n",
       "    .dataframe tbody tr th {\n",
       "        vertical-align: top;\n",
       "    }\n",
       "\n",
       "    .dataframe thead th {\n",
       "        text-align: right;\n",
       "    }\n",
       "</style>\n",
       "<table border=\"1\" class=\"dataframe\">\n",
       "  <thead>\n",
       "    <tr style=\"text-align: right;\">\n",
       "      <th></th>\n",
       "      <th>card_name</th>\n",
       "      <th>total_count</th>\n",
       "    </tr>\n",
       "  </thead>\n",
       "  <tbody>\n",
       "    <tr>\n",
       "      <th>0</th>\n",
       "      <td>Steam Vents</td>\n",
       "      <td>7516</td>\n",
       "    </tr>\n",
       "    <tr>\n",
       "      <th>1</th>\n",
       "      <td>Misty Rainforest</td>\n",
       "      <td>9509</td>\n",
       "    </tr>\n",
       "    <tr>\n",
       "      <th>2</th>\n",
       "      <td>Lightning Bolt</td>\n",
       "      <td>13268</td>\n",
       "    </tr>\n",
       "    <tr>\n",
       "      <th>3</th>\n",
       "      <td>Spell Snare</td>\n",
       "      <td>853</td>\n",
       "    </tr>\n",
       "    <tr>\n",
       "      <th>4</th>\n",
       "      <td>Polluted Delta</td>\n",
       "      <td>5732</td>\n",
       "    </tr>\n",
       "    <tr>\n",
       "      <th>...</th>\n",
       "      <td>...</td>\n",
       "      <td>...</td>\n",
       "    </tr>\n",
       "    <tr>\n",
       "      <th>1733</th>\n",
       "      <td>Royal Treatment</td>\n",
       "      <td>4</td>\n",
       "    </tr>\n",
       "    <tr>\n",
       "      <th>1734</th>\n",
       "      <td>Unravel the Aether</td>\n",
       "      <td>1</td>\n",
       "    </tr>\n",
       "    <tr>\n",
       "      <th>1735</th>\n",
       "      <td>Callous Sell-Sword // Burn Together</td>\n",
       "      <td>3</td>\n",
       "    </tr>\n",
       "    <tr>\n",
       "      <th>1736</th>\n",
       "      <td>Bloodthorn Flail</td>\n",
       "      <td>2</td>\n",
       "    </tr>\n",
       "    <tr>\n",
       "      <th>1737</th>\n",
       "      <td>Mirrorpool</td>\n",
       "      <td>1</td>\n",
       "    </tr>\n",
       "  </tbody>\n",
       "</table>\n",
       "<p>1738 rows × 2 columns</p>\n",
       "</div>"
      ],
      "text/plain": [
       "                                card_name  total_count\n",
       "0                             Steam Vents         7516\n",
       "1                        Misty Rainforest         9509\n",
       "2                          Lightning Bolt        13268\n",
       "3                             Spell Snare          853\n",
       "4                          Polluted Delta         5732\n",
       "...                                   ...          ...\n",
       "1733                      Royal Treatment            4\n",
       "1734                   Unravel the Aether            1\n",
       "1735  Callous Sell-Sword // Burn Together            3\n",
       "1736                     Bloodthorn Flail            2\n",
       "1737                           Mirrorpool            1\n",
       "\n",
       "[1738 rows x 2 columns]"
      ]
     },
     "execution_count": 8,
     "metadata": {},
     "output_type": "execute_result"
    }
   ],
   "source": [
    "modern_card_counts_df = add_back_face(modern_card_counts_df)"
   ]
  },
  {
   "cell_type": "code",
   "execution_count": 9,
   "metadata": {},
   "outputs": [
    {
     "name": "stdout",
     "output_type": "stream",
     "text": [
      "Brazen Borrower // Petty Theft\n"
     ]
    }
   ],
   "source": [
    "# Checking to see if double face cards look correct\n",
    "for name in modern_card_counts_df['card_name']:\n",
    "    if \"Smelt\" in name:\n",
    "        print(name)"
   ]
  },
  {
   "cell_type": "code",
   "execution_count": null,
   "metadata": {},
   "outputs": [],
   "source": [
    "modern_card_counts_df[modern_card_counts_df['card_name'] == 'Smelt // Herd // Saw']"
   ]
  },
  {
   "cell_type": "code",
   "execution_count": 10,
   "metadata": {},
   "outputs": [
    {
     "data": {
      "text/html": [
       "<div>\n",
       "<style scoped>\n",
       "    .dataframe tbody tr th:only-of-type {\n",
       "        vertical-align: middle;\n",
       "    }\n",
       "\n",
       "    .dataframe tbody tr th {\n",
       "        vertical-align: top;\n",
       "    }\n",
       "\n",
       "    .dataframe thead th {\n",
       "        text-align: right;\n",
       "    }\n",
       "</style>\n",
       "<table border=\"1\" class=\"dataframe\">\n",
       "  <thead>\n",
       "    <tr style=\"text-align: right;\">\n",
       "      <th></th>\n",
       "      <th>card_name</th>\n",
       "      <th>total_count</th>\n",
       "      <th>set_name</th>\n",
       "    </tr>\n",
       "  </thead>\n",
       "  <tbody>\n",
       "    <tr>\n",
       "      <th>0</th>\n",
       "      <td>Steam Vents</td>\n",
       "      <td>7516</td>\n",
       "      <td>GPT</td>\n",
       "    </tr>\n",
       "    <tr>\n",
       "      <th>1</th>\n",
       "      <td>Misty Rainforest</td>\n",
       "      <td>9509</td>\n",
       "      <td>ZEN</td>\n",
       "    </tr>\n",
       "    <tr>\n",
       "      <th>2</th>\n",
       "      <td>Lightning Bolt</td>\n",
       "      <td>13268</td>\n",
       "      <td>LEA</td>\n",
       "    </tr>\n",
       "    <tr>\n",
       "      <th>3</th>\n",
       "      <td>Spell Snare</td>\n",
       "      <td>853</td>\n",
       "      <td>DIS</td>\n",
       "    </tr>\n",
       "    <tr>\n",
       "      <th>4</th>\n",
       "      <td>Polluted Delta</td>\n",
       "      <td>5732</td>\n",
       "      <td>ONS</td>\n",
       "    </tr>\n",
       "    <tr>\n",
       "      <th>...</th>\n",
       "      <td>...</td>\n",
       "      <td>...</td>\n",
       "      <td>...</td>\n",
       "    </tr>\n",
       "    <tr>\n",
       "      <th>1733</th>\n",
       "      <td>Royal Treatment</td>\n",
       "      <td>4</td>\n",
       "      <td>WOE</td>\n",
       "    </tr>\n",
       "    <tr>\n",
       "      <th>1734</th>\n",
       "      <td>Unravel the Aether</td>\n",
       "      <td>1</td>\n",
       "      <td>BNG</td>\n",
       "    </tr>\n",
       "    <tr>\n",
       "      <th>1735</th>\n",
       "      <td>Callous Sell-Sword // Burn Together</td>\n",
       "      <td>3</td>\n",
       "      <td>WOE</td>\n",
       "    </tr>\n",
       "    <tr>\n",
       "      <th>1736</th>\n",
       "      <td>Bloodthorn Flail</td>\n",
       "      <td>2</td>\n",
       "      <td>LCI</td>\n",
       "    </tr>\n",
       "    <tr>\n",
       "      <th>1737</th>\n",
       "      <td>Mirrorpool</td>\n",
       "      <td>1</td>\n",
       "      <td>OGW</td>\n",
       "    </tr>\n",
       "  </tbody>\n",
       "</table>\n",
       "<p>1738 rows × 3 columns</p>\n",
       "</div>"
      ],
      "text/plain": [
       "                                card_name  total_count set_name\n",
       "0                             Steam Vents         7516      GPT\n",
       "1                        Misty Rainforest         9509      ZEN\n",
       "2                          Lightning Bolt        13268      LEA\n",
       "3                             Spell Snare          853      DIS\n",
       "4                          Polluted Delta         5732      ONS\n",
       "...                                   ...          ...      ...\n",
       "1733                      Royal Treatment            4      WOE\n",
       "1734                   Unravel the Aether            1      BNG\n",
       "1735  Callous Sell-Sword // Burn Together            3      WOE\n",
       "1736                     Bloodthorn Flail            2      LCI\n",
       "1737                           Mirrorpool            1      OGW\n",
       "\n",
       "[1738 rows x 3 columns]"
      ]
     },
     "execution_count": 10,
     "metadata": {},
     "output_type": "execute_result"
    }
   ],
   "source": [
    "modern_card_counts_df = modern_card_counts_df.merge(cards_set_df, on = 'card_name', how = 'left')\n",
    "modern_card_counts_df"
   ]
  },
  {
   "cell_type": "code",
   "execution_count": 11,
   "metadata": {},
   "outputs": [
    {
     "data": {
      "text/html": [
       "<div>\n",
       "<style scoped>\n",
       "    .dataframe tbody tr th:only-of-type {\n",
       "        vertical-align: middle;\n",
       "    }\n",
       "\n",
       "    .dataframe tbody tr th {\n",
       "        vertical-align: top;\n",
       "    }\n",
       "\n",
       "    .dataframe thead th {\n",
       "        text-align: right;\n",
       "    }\n",
       "</style>\n",
       "<table border=\"1\" class=\"dataframe\">\n",
       "  <thead>\n",
       "    <tr style=\"text-align: right;\">\n",
       "      <th></th>\n",
       "      <th>set_name</th>\n",
       "      <th>set_year</th>\n",
       "    </tr>\n",
       "  </thead>\n",
       "  <tbody>\n",
       "    <tr>\n",
       "      <th>0</th>\n",
       "      <td>P15A</td>\n",
       "      <td>2008</td>\n",
       "    </tr>\n",
       "    <tr>\n",
       "      <th>1</th>\n",
       "      <td>PHTR</td>\n",
       "      <td>2017</td>\n",
       "    </tr>\n",
       "    <tr>\n",
       "      <th>2</th>\n",
       "      <td>G17</td>\n",
       "      <td>2017</td>\n",
       "    </tr>\n",
       "    <tr>\n",
       "      <th>3</th>\n",
       "      <td>PH17</td>\n",
       "      <td>2018</td>\n",
       "    </tr>\n",
       "    <tr>\n",
       "      <th>4</th>\n",
       "      <td>PH18</td>\n",
       "      <td>2019</td>\n",
       "    </tr>\n",
       "    <tr>\n",
       "      <th>...</th>\n",
       "      <td>...</td>\n",
       "      <td>...</td>\n",
       "    </tr>\n",
       "    <tr>\n",
       "      <th>741</th>\n",
       "      <td>ZNC</td>\n",
       "      <td>2020</td>\n",
       "    </tr>\n",
       "    <tr>\n",
       "      <th>742</th>\n",
       "      <td>ZNE</td>\n",
       "      <td>2020</td>\n",
       "    </tr>\n",
       "    <tr>\n",
       "      <th>743</th>\n",
       "      <td>MZNR</td>\n",
       "      <td>2020</td>\n",
       "    </tr>\n",
       "    <tr>\n",
       "      <th>744</th>\n",
       "      <td>PZNR</td>\n",
       "      <td>2020</td>\n",
       "    </tr>\n",
       "    <tr>\n",
       "      <th>745</th>\n",
       "      <td>SZNR</td>\n",
       "      <td>2020</td>\n",
       "    </tr>\n",
       "  </tbody>\n",
       "</table>\n",
       "<p>746 rows × 2 columns</p>\n",
       "</div>"
      ],
      "text/plain": [
       "    set_name set_year\n",
       "0       P15A     2008\n",
       "1       PHTR     2017\n",
       "2        G17     2017\n",
       "3       PH17     2018\n",
       "4       PH18     2019\n",
       "..       ...      ...\n",
       "741      ZNC     2020\n",
       "742      ZNE     2020\n",
       "743     MZNR     2020\n",
       "744     PZNR     2020\n",
       "745     SZNR     2020\n",
       "\n",
       "[746 rows x 2 columns]"
      ]
     },
     "execution_count": 11,
     "metadata": {},
     "output_type": "execute_result"
    }
   ],
   "source": [
    "set_year = {}\n",
    "for set_id in set_list['data']:\n",
    "    set_year[set_id['code']] = set_id['releaseDate'][0:4]\n",
    "set_year_df = pd.DataFrame.from_dict(set_year, orient='index')\n",
    "set_year_df.reset_index(inplace= True) \n",
    "set_year_df.rename(columns={'index': 'set_name', 0:'set_year'},inplace= True) \n",
    "set_year_df"
   ]
  },
  {
   "cell_type": "code",
   "execution_count": 12,
   "metadata": {},
   "outputs": [
    {
     "data": {
      "text/html": [
       "<div>\n",
       "<style scoped>\n",
       "    .dataframe tbody tr th:only-of-type {\n",
       "        vertical-align: middle;\n",
       "    }\n",
       "\n",
       "    .dataframe tbody tr th {\n",
       "        vertical-align: top;\n",
       "    }\n",
       "\n",
       "    .dataframe thead th {\n",
       "        text-align: right;\n",
       "    }\n",
       "</style>\n",
       "<table border=\"1\" class=\"dataframe\">\n",
       "  <thead>\n",
       "    <tr style=\"text-align: right;\">\n",
       "      <th></th>\n",
       "      <th>card_name</th>\n",
       "      <th>total_count</th>\n",
       "      <th>set_name</th>\n",
       "      <th>set_year</th>\n",
       "    </tr>\n",
       "  </thead>\n",
       "  <tbody>\n",
       "    <tr>\n",
       "      <th>0</th>\n",
       "      <td>Steam Vents</td>\n",
       "      <td>7516</td>\n",
       "      <td>GPT</td>\n",
       "      <td>2006</td>\n",
       "    </tr>\n",
       "    <tr>\n",
       "      <th>1</th>\n",
       "      <td>Misty Rainforest</td>\n",
       "      <td>9509</td>\n",
       "      <td>ZEN</td>\n",
       "      <td>2009</td>\n",
       "    </tr>\n",
       "    <tr>\n",
       "      <th>2</th>\n",
       "      <td>Lightning Bolt</td>\n",
       "      <td>13268</td>\n",
       "      <td>LEA</td>\n",
       "      <td>1993</td>\n",
       "    </tr>\n",
       "    <tr>\n",
       "      <th>3</th>\n",
       "      <td>Spell Snare</td>\n",
       "      <td>853</td>\n",
       "      <td>DIS</td>\n",
       "      <td>2006</td>\n",
       "    </tr>\n",
       "    <tr>\n",
       "      <th>4</th>\n",
       "      <td>Polluted Delta</td>\n",
       "      <td>5732</td>\n",
       "      <td>ONS</td>\n",
       "      <td>2002</td>\n",
       "    </tr>\n",
       "    <tr>\n",
       "      <th>...</th>\n",
       "      <td>...</td>\n",
       "      <td>...</td>\n",
       "      <td>...</td>\n",
       "      <td>...</td>\n",
       "    </tr>\n",
       "    <tr>\n",
       "      <th>1733</th>\n",
       "      <td>Royal Treatment</td>\n",
       "      <td>4</td>\n",
       "      <td>WOE</td>\n",
       "      <td>2023</td>\n",
       "    </tr>\n",
       "    <tr>\n",
       "      <th>1734</th>\n",
       "      <td>Unravel the Aether</td>\n",
       "      <td>1</td>\n",
       "      <td>BNG</td>\n",
       "      <td>2014</td>\n",
       "    </tr>\n",
       "    <tr>\n",
       "      <th>1735</th>\n",
       "      <td>Callous Sell-Sword // Burn Together</td>\n",
       "      <td>3</td>\n",
       "      <td>WOE</td>\n",
       "      <td>2023</td>\n",
       "    </tr>\n",
       "    <tr>\n",
       "      <th>1736</th>\n",
       "      <td>Bloodthorn Flail</td>\n",
       "      <td>2</td>\n",
       "      <td>LCI</td>\n",
       "      <td>2023</td>\n",
       "    </tr>\n",
       "    <tr>\n",
       "      <th>1737</th>\n",
       "      <td>Mirrorpool</td>\n",
       "      <td>1</td>\n",
       "      <td>OGW</td>\n",
       "      <td>2016</td>\n",
       "    </tr>\n",
       "  </tbody>\n",
       "</table>\n",
       "<p>1738 rows × 4 columns</p>\n",
       "</div>"
      ],
      "text/plain": [
       "                                card_name  total_count set_name set_year\n",
       "0                             Steam Vents         7516      GPT     2006\n",
       "1                        Misty Rainforest         9509      ZEN     2009\n",
       "2                          Lightning Bolt        13268      LEA     1993\n",
       "3                             Spell Snare          853      DIS     2006\n",
       "4                          Polluted Delta         5732      ONS     2002\n",
       "...                                   ...          ...      ...      ...\n",
       "1733                      Royal Treatment            4      WOE     2023\n",
       "1734                   Unravel the Aether            1      BNG     2014\n",
       "1735  Callous Sell-Sword // Burn Together            3      WOE     2023\n",
       "1736                     Bloodthorn Flail            2      LCI     2023\n",
       "1737                           Mirrorpool            1      OGW     2016\n",
       "\n",
       "[1738 rows x 4 columns]"
      ]
     },
     "execution_count": 12,
     "metadata": {},
     "output_type": "execute_result"
    }
   ],
   "source": [
    "modern_card_counts_df = modern_card_counts_df.merge(set_year_df, on='set_name', how='left', copy=True)\n",
    "modern_card_counts_df"
   ]
  },
  {
   "cell_type": "code",
   "execution_count": 13,
   "metadata": {},
   "outputs": [
    {
     "data": {
      "text/plain": [
       "<Figure size 1200x800 with 0 Axes>"
      ]
     },
     "metadata": {},
     "output_type": "display_data"
    },
    {
     "data": {
      "image/png": "[encoded data removed]",
      "text/plain": [
       "<Figure size 640x480 with 1 Axes>"
      ]
     },
     "metadata": {},
     "output_type": "display_data"
    }
   ],
   "source": [
    "psd.plot_stacked_set_counts(modern_card_counts_df, set_year_df, 'modern')"
   ]
  },
  {
   "cell_type": "code",
   "execution_count": 14,
   "metadata": {},
   "outputs": [
    {
     "data": {
      "text/plain": [
       "<Axes: xlabel='set_year'>"
      ]
     },
     "execution_count": 14,
     "metadata": {},
     "output_type": "execute_result"
    },
    {
     "data": {
      "image/png": "[encoded data removed]",
      "text/plain": [
       "<Figure size 640x480 with 1 Axes>"
      ]
     },
     "metadata": {},
     "output_type": "display_data"
    }
   ],
   "source": [
    "# Very limited Graph as a proof of concept\n",
    "modern_card_counts_df.groupby('set_year')['total_count'].sum().plot(kind='bar')"
   ]
  },
  {
   "cell_type": "code",
   "execution_count": 15,
   "metadata": {},
   "outputs": [
    {
     "ename": "ValueError",
     "evalue": "Could not interpret input 'set_year'",
     "output_type": "error",
     "traceback": [
      "\u001b[0;31m---------------------------------------------------------------------------\u001b[0m",
      "\u001b[0;31mValueError\u001b[0m                                Traceback (most recent call last)",
      "Cell \u001b[0;32mIn[15], line 1\u001b[0m\n\u001b[0;32m----> 1\u001b[0m plt \u001b[38;5;241m=\u001b[39m ptd\u001b[38;5;241m.\u001b[39mcreate_base_graph(modern_card_counts_df,(\u001b[38;5;241m255\u001b[39m\u001b[38;5;241m/\u001b[39m\u001b[38;5;241m255\u001b[39m,\u001b[38;5;241m122\u001b[39m\u001b[38;5;241m/\u001b[39m\u001b[38;5;241m255\u001b[39m,\u001b[38;5;241m14\u001b[39m\u001b[38;5;241m/\u001b[39m\u001b[38;5;241m255\u001b[39m))\n\u001b[1;32m      2\u001b[0m plt\u001b[38;5;241m.\u001b[39maxvline(x\u001b[38;5;241m=\u001b[39m\u001b[38;5;241m10.0\u001b[39m, color\u001b[38;5;241m=\u001b[39m\u001b[38;5;124m'\u001b[39m\u001b[38;5;124mblue\u001b[39m\u001b[38;5;124m'\u001b[39m, linestyle\u001b[38;5;241m=\u001b[39m\u001b[38;5;124m'\u001b[39m\u001b[38;5;124m--\u001b[39m\u001b[38;5;124m'\u001b[39m)\n\u001b[1;32m      3\u001b[0m plt\u001b[38;5;241m.\u001b[39mtext(\u001b[38;5;241m10.2\u001b[39m, \u001b[38;5;241m100000\u001b[39m, \u001b[38;5;124m'\u001b[39m\u001b[38;5;124mModern Legal\u001b[39m\u001b[38;5;124m'\u001b[39m, color \u001b[38;5;241m=\u001b[39m \u001b[38;5;124m'\u001b[39m\u001b[38;5;124mblack\u001b[39m\u001b[38;5;124m'\u001b[39m, fontsize \u001b[38;5;241m=\u001b[39m \u001b[38;5;241m10\u001b[39m)\n",
      "File \u001b[0;32m~/Projects/DS-final-CForey-Jbourds/src/plot/plot_tournament_data.py:15\u001b[0m, in \u001b[0;36mcreate_base_graph\u001b[0;34m(df, rgb)\u001b[0m\n\u001b[1;32m     13\u001b[0m plt\u001b[38;5;241m.\u001b[39mfigure(figsize\u001b[38;5;241m=\u001b[39m(\u001b[38;5;241m10\u001b[39m, \u001b[38;5;241m6\u001b[39m))\n\u001b[1;32m     14\u001b[0m sns\u001b[38;5;241m.\u001b[39mset_style(\u001b[38;5;124m'\u001b[39m\u001b[38;5;124mticks\u001b[39m\u001b[38;5;124m'\u001b[39m)\n\u001b[0;32m---> 15\u001b[0m sns\u001b[38;5;241m.\u001b[39mbarplot(data \u001b[38;5;241m=\u001b[39m grouped_year, x \u001b[38;5;241m=\u001b[39m \u001b[38;5;124m'\u001b[39m\u001b[38;5;124mset_year\u001b[39m\u001b[38;5;124m'\u001b[39m, y \u001b[38;5;241m=\u001b[39m \u001b[38;5;124m'\u001b[39m\u001b[38;5;124mtotal_count\u001b[39m\u001b[38;5;124m'\u001b[39m,color \u001b[38;5;241m=\u001b[39m rgb)\n\u001b[1;32m     16\u001b[0m plt\u001b[38;5;241m.\u001b[39mxticks(rotation\u001b[38;5;241m=\u001b[39m\u001b[38;5;241m45\u001b[39m)\n\u001b[1;32m     17\u001b[0m plt\u001b[38;5;241m.\u001b[39mtight_layout()\n",
      "File \u001b[0;32m~/anaconda3/lib/python3.11/site-packages/seaborn/categorical.py:2755\u001b[0m, in \u001b[0;36mbarplot\u001b[0;34m(data, x, y, hue, order, hue_order, estimator, errorbar, n_boot, units, seed, orient, color, palette, saturation, width, errcolor, errwidth, capsize, dodge, ci, ax, **kwargs)\u001b[0m\n\u001b[1;32m   2752\u001b[0m \u001b[38;5;28;01mif\u001b[39;00m estimator \u001b[38;5;129;01mis\u001b[39;00m \u001b[38;5;28mlen\u001b[39m:\n\u001b[1;32m   2753\u001b[0m     estimator \u001b[38;5;241m=\u001b[39m \u001b[38;5;124m\"\u001b[39m\u001b[38;5;124msize\u001b[39m\u001b[38;5;124m\"\u001b[39m\n\u001b[0;32m-> 2755\u001b[0m plotter \u001b[38;5;241m=\u001b[39m _BarPlotter(x, y, hue, data, order, hue_order,\n\u001b[1;32m   2756\u001b[0m                       estimator, errorbar, n_boot, units, seed,\n\u001b[1;32m   2757\u001b[0m                       orient, color, palette, saturation,\n\u001b[1;32m   2758\u001b[0m                       width, errcolor, errwidth, capsize, dodge)\n\u001b[1;32m   2760\u001b[0m \u001b[38;5;28;01mif\u001b[39;00m ax \u001b[38;5;129;01mis\u001b[39;00m \u001b[38;5;28;01mNone\u001b[39;00m:\n\u001b[1;32m   2761\u001b[0m     ax \u001b[38;5;241m=\u001b[39m plt\u001b[38;5;241m.\u001b[39mgca()\n",
      "File \u001b[0;32m~/anaconda3/lib/python3.11/site-packages/seaborn/categorical.py:1530\u001b[0m, in \u001b[0;36m_BarPlotter.__init__\u001b[0;34m(self, x, y, hue, data, order, hue_order, estimator, errorbar, n_boot, units, seed, orient, color, palette, saturation, width, errcolor, errwidth, capsize, dodge)\u001b[0m\n\u001b[1;32m   1525\u001b[0m \u001b[38;5;28;01mdef\u001b[39;00m \u001b[38;5;21m__init__\u001b[39m(\u001b[38;5;28mself\u001b[39m, x, y, hue, data, order, hue_order,\n\u001b[1;32m   1526\u001b[0m              estimator, errorbar, n_boot, units, seed,\n\u001b[1;32m   1527\u001b[0m              orient, color, palette, saturation, width,\n\u001b[1;32m   1528\u001b[0m              errcolor, errwidth, capsize, dodge):\n\u001b[1;32m   1529\u001b[0m \u001b[38;5;250m    \u001b[39m\u001b[38;5;124;03m\"\"\"Initialize the plotter.\"\"\"\u001b[39;00m\n\u001b[0;32m-> 1530\u001b[0m     \u001b[38;5;28mself\u001b[39m\u001b[38;5;241m.\u001b[39mestablish_variables(x, y, hue, data, orient,\n\u001b[1;32m   1531\u001b[0m                              order, hue_order, units)\n\u001b[1;32m   1532\u001b[0m     \u001b[38;5;28mself\u001b[39m\u001b[38;5;241m.\u001b[39mestablish_colors(color, palette, saturation)\n\u001b[1;32m   1533\u001b[0m     \u001b[38;5;28mself\u001b[39m\u001b[38;5;241m.\u001b[39mestimate_statistic(estimator, errorbar, n_boot, seed)\n",
      "File \u001b[0;32m~/anaconda3/lib/python3.11/site-packages/seaborn/categorical.py:541\u001b[0m, in \u001b[0;36m_CategoricalPlotter.establish_variables\u001b[0;34m(self, x, y, hue, data, orient, order, hue_order, units)\u001b[0m\n\u001b[1;32m    539\u001b[0m     \u001b[38;5;28;01mif\u001b[39;00m \u001b[38;5;28misinstance\u001b[39m(var, \u001b[38;5;28mstr\u001b[39m):\n\u001b[1;32m    540\u001b[0m         err \u001b[38;5;241m=\u001b[39m \u001b[38;5;124mf\u001b[39m\u001b[38;5;124m\"\u001b[39m\u001b[38;5;124mCould not interpret input \u001b[39m\u001b[38;5;124m'\u001b[39m\u001b[38;5;132;01m{\u001b[39;00mvar\u001b[38;5;132;01m}\u001b[39;00m\u001b[38;5;124m'\u001b[39m\u001b[38;5;124m\"\u001b[39m\n\u001b[0;32m--> 541\u001b[0m         \u001b[38;5;28;01mraise\u001b[39;00m \u001b[38;5;167;01mValueError\u001b[39;00m(err)\n\u001b[1;32m    543\u001b[0m \u001b[38;5;66;03m# Figure out the plotting orientation\u001b[39;00m\n\u001b[1;32m    544\u001b[0m orient \u001b[38;5;241m=\u001b[39m infer_orient(\n\u001b[1;32m    545\u001b[0m     x, y, orient, require_numeric\u001b[38;5;241m=\u001b[39m\u001b[38;5;28mself\u001b[39m\u001b[38;5;241m.\u001b[39mrequire_numeric\n\u001b[1;32m    546\u001b[0m )\n",
      "\u001b[0;31mValueError\u001b[0m: Could not interpret input 'set_year'"
     ]
    },
    {
     "data": {
      "text/plain": [
       "<Figure size 1000x600 with 0 Axes>"
      ]
     },
     "metadata": {},
     "output_type": "display_data"
    }
   ],
   "source": [
    "plt = ptd.create_base_graph(modern_card_counts_df,(255/255,122/255,14/255))\n",
    "plt.axvline(x=10.0, color='blue', linestyle='--')\n",
    "plt.text(10.2, 100000, 'Modern Legal', color = 'black', fontsize = 10)\n",
    "plt.axvline(x=25.5, color='black', linestyle='--')\n",
    "plt.text(22, 130000, 'Fire Design', color = 'black', fontsize = 10)\n",
    "plt.axvline(x=28, color='purple', linestyle='--')\n",
    "plt.text(28.4, 130000, 'MH2', color = 'black', fontsize = 10)\n",
    "plt.margins(x=0)"
   ]
  },
  {
   "cell_type": "markdown",
   "metadata": {},
   "source": [
    "### Pioneer Data"
   ]
  },
  {
   "cell_type": "code",
   "execution_count": null,
   "metadata": {},
   "outputs": [],
   "source": [
    "base_path: str = os.path.join(DATA_DIRECTORY, '2023')\n",
    "pioneer_card_counts_df, pioneer_player_counts_df = ltd.load_format_card_counts(base_path, 'pioneer')\n",
    "pioneer_card_counts_df"
   ]
  },
  {
   "cell_type": "code",
   "execution_count": null,
   "metadata": {},
   "outputs": [],
   "source": [
    "pioneer_card_counts_df = add_back_face(pioneer_card_counts_df)\n",
    "pioneer_card_counts_df "
   ]
  },
  {
   "cell_type": "code",
   "execution_count": null,
   "metadata": {},
   "outputs": [],
   "source": [
    "for name in pioneer_card_counts_df['card_name']:\n",
    "    if \"Fable\" in name:\n",
    "        print(name)"
   ]
  },
  {
   "cell_type": "code",
   "execution_count": null,
   "metadata": {},
   "outputs": [],
   "source": [
    "pioneer_card_counts_df = pioneer_card_counts_df.merge(cards_set_df, on = 'card_name', how = 'left')\n",
    "pioneer_card_counts_df"
   ]
  },
  {
   "cell_type": "code",
   "execution_count": null,
   "metadata": {},
   "outputs": [],
   "source": [
    "pioneer_card_counts_df = pioneer_card_counts_df.merge(set_year_df, on = 'set_name', how = 'left', copy = True)\n",
    "pioneer_card_counts_df"
   ]
  },
  {
   "cell_type": "code",
   "execution_count": null,
   "metadata": {},
   "outputs": [],
   "source": [
    "plt = ptd.create_base_graph(pioneer_card_counts_df, (9/255, 121/255, 105/255))\n",
    "plt.axvline(x=19.2, color='blue', linestyle='--')\n",
    "plt.text(16, 70000, 'Pioneer Legal', color = 'black', fontsize = 10)\n",
    "plt.axvline(x=25.5, color='black', linestyle='--')\n",
    "plt.text(22.7, 70000, 'Fire Design', color = 'black', fontsize = 10)\n",
    "plt.show()"
   ]
  },
  {
   "cell_type": "markdown",
   "metadata": {},
   "source": [
    "## Legacy"
   ]
  },
  {
   "cell_type": "code",
   "execution_count": null,
   "metadata": {},
   "outputs": [],
   "source": [
    "base_path: str = os.path.join(c.DATA_DIRECTORY, '2023')\n",
    "legacy_card_counts_df: pd.DataFrame = ltd.load_format_card_counts(base_path, 'legacy')\n",
    "legacy_card_counts_df"
   ]
  },
  {
   "cell_type": "code",
   "execution_count": null,
   "metadata": {},
   "outputs": [],
   "source": [
    "legacy_card_counts_df = add_back_face(legacy_card_counts_df)\n",
    "legacy_card_counts_df"
   ]
  },
  {
   "cell_type": "code",
   "execution_count": null,
   "metadata": {},
   "outputs": [],
   "source": [
    "for name in legacy_card_counts_df['card_name']:\n",
    "    if \"Fable\" in name:\n",
    "        print(name)"
   ]
  },
  {
   "cell_type": "code",
   "execution_count": null,
   "metadata": {},
   "outputs": [],
   "source": [
    "legacy_card_counts_df = legacy_card_counts_df.merge(cards_set_df, on = 'card_name', how = 'left')\n",
    "legacy_card_counts_df"
   ]
  },
  {
   "cell_type": "code",
   "execution_count": null,
   "metadata": {},
   "outputs": [],
   "source": [
    "legacy_card_counts_df = legacy_card_counts_df.merge(set_year_df, on = 'set_name', how = 'left', copy = True)\n",
    "legacy_card_counts_df"
   ]
  },
  {
   "cell_type": "code",
   "execution_count": null,
   "metadata": {},
   "outputs": [],
   "source": [
    "plt = ptd.create_base_graph(legacy_card_counts_df, (255/255, 215/255, 0/255))\n",
    "plt.axvline(x=25.5, color='black', linestyle='--')\n",
    "plt.text(22.7, 30000, 'Fire Design', color = 'black', fontsize = 10)\n",
    "plt.axvline(x=28, color='purple', linestyle='--')\n",
    "plt.text(28.4, 35000, 'MH2', color = 'black', fontsize = 10)\n",
    "plt.show()\n"
   ]
  },
  {
   "cell_type": "code",
   "execution_count": null,
   "metadata": {},
   "outputs": [],
   "source": []
  }
 ],
 "metadata": {
  "kernelspec": {
   "display_name": "Python 3",
   "language": "python",
   "name": "python3"
  },
  "language_info": {
   "codemirror_mode": {
    "name": "ipython",
    "version": 3
   },
   "file_extension": ".py",
   "mimetype": "text/x-python",
   "name": "python",
   "nbconvert_exporter": "python",
   "pygments_lexer": "ipython3",
   "version": "3.10.11"
  }
 },
 "nbformat": 4,
 "nbformat_minor": 2
}
