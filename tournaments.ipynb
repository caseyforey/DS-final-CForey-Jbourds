{
 "cells": [
  {
   "cell_type": "code",
   "execution_count": null,
   "metadata": {},
   "outputs": [],
   "source": [
    "\"\"\"\n",
    "tournaments.ipynb\n",
    "\n",
    "Jupyter Notebook to perform analysis on card market data.\n",
    "\n",
    "Author: Casey Forey\n",
    "Date Created: 4/7/24\n",
    "\"\"\""
   ]
  },
  {
   "cell_type": "code",
   "execution_count": null,
   "metadata": {},
   "outputs": [],
   "source": [
    "%matplotlib inline\n",
    "\n",
    "# Imports\n",
    "from importlib import reload\n",
    "import json \n",
    "import os \n",
    "import pandas as pd\n",
    "import matplotlib.pyplot as plt\n",
    "import seaborn as sns\n",
    "\n",
    "import src.constants as c\n",
    "import src.load.load_set_data as lsd\n",
    "import src.load.load_tournament_data as ltd\n",
    "import src.plot.plot_set_data as psd\n",
    "import src.plot.plot_tournament_data as ptd"
   ]
  },
  {
   "cell_type": "code",
   "execution_count": null,
   "metadata": {},
   "outputs": [],
   "source": [
    "path = 'data/AtomicCards.json' \n",
    "f = open(path, encoding= \"utf8\") \n",
    "atm_cards = json.load(f)\n",
    "\n",
    "path = 'data/AllPrintings.json' \n",
    "f = open(path, encoding= \"utf8\") \n",
    "all_cards = json.load(f)\n",
    "\n",
    "path = 'data/AllPricesToday.json' \n",
    "f = open(path) \n",
    "prices = json.load(f)\n",
    "\n",
    "path = 'data/SetList.json' \n",
    "f = open(path, encoding= \"utf8\") \n",
    "set_list = json.load(f)"
   ]
  },
  {
   "cell_type": "markdown",
   "metadata": {},
   "source": [
    "## Modern Data"
   ]
  },
  {
   "cell_type": "code",
   "execution_count": null,
   "metadata": {},
   "outputs": [],
   "source": [
    "base_path: str = os.path.join(c.DATA_DIRECTORY, '2023')\n",
    "modern_card_counts_df, player_counts_df = ltd.load_format_card_counts(base_path, 'modern')\n",
    "modern_card_counts_df"
   ]
  },
  {
   "cell_type": "code",
   "execution_count": null,
   "metadata": {},
   "outputs": [],
   "source": [
    "data = atm_cards['data']\n",
    "cards_set = {}\n",
    "i = 0\n",
    "for card in data:\n",
    "    card_info = data[card][0]\n",
    "    if 'firstPrinting' in card_info:\n",
    "        cards_set[card] = card_info['firstPrinting']\n",
    "    else:\n",
    "        i +=1\n",
    "print(i)"
   ]
  },
  {
   "cell_type": "code",
   "execution_count": null,
   "metadata": {},
   "outputs": [],
   "source": [
    "cards_set_df = pd.DataFrame.from_dict(cards_set, orient='index')\n",
    "cards_set_df.reset_index(inplace= True) \n",
    "cards_set_df.rename(columns={'index': 'card_name', 0: 'set_code'},inplace= True) \n",
    "cards_set_df"
   ]
  },
  {
   "cell_type": "code",
   "execution_count": null,
   "metadata": {},
   "outputs": [],
   "source": [
    "def add_back_face(df):\n",
    "    for card in df['card_name']:\n",
    "        for name in cards_set_df['card_name']:\n",
    "            front_name = name.split('//')[0].strip()\n",
    "            if card == front_name and '//' in name:\n",
    "                df['card_name'].replace(card, name,inplace = True)\n",
    "    return df"
   ]
  },
  {
   "cell_type": "code",
   "execution_count": null,
   "metadata": {},
   "outputs": [],
   "source": [
    "modern_card_counts_df = add_back_face(modern_card_counts_df)"
   ]
  },
  {
   "cell_type": "code",
   "execution_count": null,
   "metadata": {},
   "outputs": [],
   "source": [
    "# Checking to see if double face cards look correct\n",
    "for name in modern_card_counts_df['card_name']:\n",
    "    if \"Smelt\" in name:\n",
    "        print(name)"
   ]
  },
  {
   "cell_type": "code",
   "execution_count": null,
   "metadata": {},
   "outputs": [],
   "source": [
    "modern_card_counts_df[modern_card_counts_df['card_name'] == 'Smelt // Herd // Saw']"
   ]
  },
  {
   "cell_type": "code",
   "execution_count": null,
   "metadata": {},
   "outputs": [],
   "source": [
    "modern_card_counts_df = modern_card_counts_df.merge(cards_set_df, on = 'card_name', how = 'left')\n",
    "modern_card_counts_df"
   ]
  },
  {
   "cell_type": "code",
   "execution_count": null,
   "metadata": {},
   "outputs": [],
   "source": [
    "reload(lsd)\n",
    "\n",
    "set_release_df: pd.DataFrame = lsd.get_set_and_release_year()\n",
    "set_release_df"
   ]
  },
  {
   "cell_type": "code",
   "execution_count": null,
   "metadata": {},
   "outputs": [],
   "source": [
    "modern_card_counts_df = modern_card_counts_df.merge(set_release_df, on='set_code', how='left', copy=True)\n",
    "modern_card_counts_df"
   ]
  },
  {
   "cell_type": "code",
   "execution_count": null,
   "metadata": {},
   "outputs": [],
   "source": [
    "reload(psd)\n",
    "%matplotlib inline\n",
    "\n",
    "legend_params: list[tuple] = [\n",
    "    (1993, 'green', '--', 'Magic First Comes Out (1993)'),\n",
    "    (2011, 'orange', '--', 'Start of Modern Format (2011)'),\n",
    "    (2019, 'red', '--', 'Fire Design Principle Implemented (2019)'),\n",
    "    (2021, 'blue', '--', 'Modern Horizons 2 Released (2021)'),\n",
    "]\n",
    "psd.plot_stacked_set_counts(modern_card_counts_df, set_release_df, 'modern', True, legend_params)"
   ]
  },
  {
   "cell_type": "code",
   "execution_count": null,
   "metadata": {},
   "outputs": [],
   "source": [
    "# Very limited Graph as a proof of concept\n",
    "modern_card_counts_df.groupby('release_year')['total_count'].sum().plot(kind='bar')"
   ]
  },
  {
   "cell_type": "code",
   "execution_count": null,
   "metadata": {},
   "outputs": [],
   "source": [
    "# reload(ptd)\n",
    "\n",
    "# ptd.plot_card_counts(modern_card_counts_df,(255/255,122/255,14/255))"
   ]
  },
  {
   "cell_type": "markdown",
   "metadata": {},
   "source": [
    "### Pioneer Data"
   ]
  },
  {
   "cell_type": "code",
   "execution_count": null,
   "metadata": {},
   "outputs": [],
   "source": [
    "base_path: str = os.path.join(c.DATA_DIRECTORY, '2023')\n",
    "pioneer_card_counts_df, pioneer_player_counts_df = ltd.load_format_card_counts(base_path, 'pioneer')\n",
    "pioneer_card_counts_df"
   ]
  },
  {
   "cell_type": "code",
   "execution_count": null,
   "metadata": {},
   "outputs": [],
   "source": [
    "pioneer_card_counts_df = add_back_face(pioneer_card_counts_df)\n",
    "pioneer_card_counts_df "
   ]
  },
  {
   "cell_type": "code",
   "execution_count": null,
   "metadata": {},
   "outputs": [],
   "source": [
    "for name in pioneer_card_counts_df['card_name']:\n",
    "    if \"Fable\" in name:\n",
    "        print(name)"
   ]
  },
  {
   "cell_type": "code",
   "execution_count": null,
   "metadata": {},
   "outputs": [],
   "source": [
    "pioneer_card_counts_df = pioneer_card_counts_df.merge(cards_set_df, on = 'card_name', how = 'left')\n",
    "pioneer_card_counts_df"
   ]
  },
  {
   "cell_type": "code",
   "execution_count": null,
   "metadata": {},
   "outputs": [],
   "source": [
    "pioneer_card_counts_df = pioneer_card_counts_df.merge(set_release_df, on = 'set_code', how = 'left', copy = True)\n",
    "pioneer_card_counts_df"
   ]
  },
  {
   "cell_type": "code",
   "execution_count": null,
   "metadata": {},
   "outputs": [],
   "source": [
    "reload(psd)\n",
    "%matplotlib inline\n",
    "\n",
    "legend_params: list[tuple] = [\n",
    "    (1993, 'green', '--', 'Magic First Comes Out (1993)'),\n",
    "    (2019, 'red', '--', 'Fire Design Principle Implemented (2019)'),\n",
    "    (2019, 'blue', ':', 'Pioneer Format Starts (2019)'),\n",
    "]\n",
    "psd.plot_stacked_set_counts(pioneer_card_counts_df, set_release_df, 'pioneer', True, legend_params)"
   ]
  },
  {
   "cell_type": "code",
   "execution_count": null,
   "metadata": {},
   "outputs": [],
   "source": [
    "# reload(ptd)\n",
    "\n",
    "# ptd.plot_card_counts(pioneer_card_counts_df, (9/255, 121/255, 105/255))"
   ]
  },
  {
   "cell_type": "markdown",
   "metadata": {},
   "source": [
    "## Legacy"
   ]
  },
  {
   "cell_type": "code",
   "execution_count": null,
   "metadata": {},
   "outputs": [],
   "source": [
    "base_path: str = os.path.join(c.DATA_DIRECTORY, '2023')\n",
    "legacy_card_counts_df, legacy_player_counts_df = ltd.load_format_card_counts(base_path, 'legacy')\n",
    "legacy_card_counts_df"
   ]
  },
  {
   "cell_type": "code",
   "execution_count": null,
   "metadata": {},
   "outputs": [],
   "source": [
    "legacy_card_counts_df = add_back_face(legacy_card_counts_df)\n",
    "legacy_card_counts_df"
   ]
  },
  {
   "cell_type": "code",
   "execution_count": null,
   "metadata": {},
   "outputs": [],
   "source": [
    "for name in legacy_card_counts_df['card_name']:\n",
    "    if \"Fable\" in name:\n",
    "        print(name)"
   ]
  },
  {
   "cell_type": "code",
   "execution_count": null,
   "metadata": {},
   "outputs": [],
   "source": [
    "legacy_card_counts_df = legacy_card_counts_df.merge(cards_set_df, on = 'card_name', how = 'left')\n",
    "legacy_card_counts_df"
   ]
  },
  {
   "cell_type": "code",
   "execution_count": null,
   "metadata": {},
   "outputs": [],
   "source": [
    "legacy_card_counts_df = legacy_card_counts_df.merge(set_release_df, on = 'set_code', how = 'left', copy = True)\n",
    "legacy_card_counts_df"
   ]
  },
  {
   "cell_type": "code",
   "execution_count": null,
   "metadata": {},
   "outputs": [],
   "source": [
    "reload(psd)\n",
    "%matplotlib inline\n",
    "\n",
    "legend_params: list[tuple] = [\n",
    "    (1993, 'green', '--', 'Magic First Comes Out (1993)'),\n",
    "    (1997, 'blue', ':', 'Legacy Format Starts (1997)'),\n",
    "    (2019, 'red', '--', 'Fire Design Principle Implemented (2019)'),\n",
    "]\n",
    "psd.plot_stacked_set_counts(legacy_card_counts_df, set_release_df, 'legacy', True, legend_params)"
   ]
  },
  {
   "cell_type": "code",
   "execution_count": null,
   "metadata": {},
   "outputs": [],
   "source": [
    "# reload(ptd)\n",
    "\n",
    "# ptd.plot_card_counts(legacy_card_counts_df, (255/255, 215/255, 0/255))"
   ]
  }
 ],
 "metadata": {
  "kernelspec": {
   "display_name": "Python 3",
   "language": "python",
   "name": "python3"
  },
  "language_info": {
   "codemirror_mode": {
    "name": "ipython",
    "version": 3
   },
   "file_extension": ".py",
   "mimetype": "text/x-python",
   "name": "python",
   "nbconvert_exporter": "python",
   "pygments_lexer": "ipython3",
   "version": "3.11.5"
  }
 },
 "nbformat": 4,
 "nbformat_minor": 2
}
