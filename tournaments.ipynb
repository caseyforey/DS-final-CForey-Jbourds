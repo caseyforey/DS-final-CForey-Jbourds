{
 "cells": [
  {
   "cell_type": "code",
   "execution_count": null,
   "metadata": {},
   "outputs": [],
   "source": [
    "\"\"\"\n",
    "tournaments.ipynb\n",
    "\n",
    "Jupyter Notebook to perform analysis on card market data.\n",
    "\n",
    "Author: Casey Forey\n",
    "Date Created: 4/7/24\n",
    "\"\"\""
   ]
  },
  {
   "cell_type": "code",
   "execution_count": null,
   "metadata": {},
   "outputs": [],
   "source": [
    "# Imports\n",
    "import json \n",
    "import os \n",
    "import pandas as pd\n",
    "import matplotlib.pyplot as plt\n",
    "import seaborn as sns\n",
    "import src.load.load_tournament_data as ltd\n",
    "import src.plot.plot_tournament_data as ptd"
   ]
  },
  {
   "cell_type": "code",
   "execution_count": null,
   "metadata": {},
   "outputs": [],
   "source": [
    "# Constants\n",
    "DATA_DIRECTORY: str = 'data/'"
   ]
  },
  {
   "cell_type": "code",
   "execution_count": null,
   "metadata": {},
   "outputs": [],
   "source": [
    "path = 'data/AtomicCards.json' \n",
    "f = open(path, encoding= \"utf8\") \n",
    "atm_cards = json.load(f)\n",
    "\n",
    "path = 'data/AllPrintings.json' \n",
    "f = open(path, encoding= \"utf8\") \n",
    "all_cards = json.load(f)\n",
    "\n",
    "path = 'data/AllPricesToday.json' \n",
    "f = open(path) \n",
    "prices = json.load(f)\n",
    "\n",
    "path = 'data/SetList.json' \n",
    "f = open(path, encoding= \"utf8\") \n",
    "set_list = json.load(f)"
   ]
  },
  {
   "cell_type": "markdown",
   "metadata": {},
   "source": [
    "## Modern Data"
   ]
  },
  {
   "cell_type": "code",
   "execution_count": null,
   "metadata": {},
   "outputs": [],
   "source": [
    "base_path: str = os.path.join(DATA_DIRECTORY, '2023')\n",
    "modern_card_counts_df, modern_player_counts_df= ltd.load_format_card_counts(base_path, 'modern')\n",
    "modern_card_counts_df"
   ]
  },
  {
   "cell_type": "code",
   "execution_count": null,
   "metadata": {},
   "outputs": [],
   "source": [
    "data = atm_cards['data']\n",
    "cards_set = {}\n",
    "i = 0\n",
    "for card in data:\n",
    "    card_info = data[card][0]\n",
    "    if 'firstPrinting' in card_info:\n",
    "        cards_set[card] = card_info['firstPrinting']\n",
    "    else:\n",
    "        i +=1\n",
    "print(i)"
   ]
  },
  {
   "cell_type": "code",
   "execution_count": null,
   "metadata": {},
   "outputs": [],
   "source": [
    "cards_set_df = pd.DataFrame.from_dict(cards_set, orient='index')\n",
    "cards_set_df.reset_index(inplace= True) \n",
    "cards_set_df.rename(columns={'index': 'card_name', 0:'set_name'},inplace= True) \n",
    "cards_set_df"
   ]
  },
  {
   "cell_type": "code",
   "execution_count": null,
   "metadata": {},
   "outputs": [],
   "source": [
    "def add_back_face(df):\n",
    "    for card in df['card_name']:\n",
    "        for name in cards_set_df['card_name']:\n",
    "            front_name = name.split('//')[0].strip()\n",
    "            if card == front_name and '//' in name:\n",
    "                df['card_name'].replace(card, name,inplace = True)\n",
    "    return df"
   ]
  },
  {
   "cell_type": "code",
   "execution_count": null,
   "metadata": {},
   "outputs": [],
   "source": [
    "modern_card_counts_df = add_back_face(modern_card_counts_df)"
   ]
  },
  {
   "cell_type": "code",
   "execution_count": null,
   "metadata": {},
   "outputs": [],
   "source": [
    "# Checking to see if double face cards look correct\n",
    "for name in modern_card_counts_df['card_name']:\n",
    "    if \"Smelt\" in name:\n",
    "        print(name)"
   ]
  },
  {
   "cell_type": "code",
   "execution_count": null,
   "metadata": {},
   "outputs": [],
   "source": [
    "modern_card_counts_df[modern_card_counts_df['card_name'] == 'Smelt // Herd // Saw']"
   ]
  },
  {
   "cell_type": "code",
   "execution_count": null,
   "metadata": {},
   "outputs": [],
   "source": [
    "modern_card_counts_df = modern_card_counts_df.merge(cards_set_df, on = 'card_name', how = 'left')\n",
    "modern_card_counts_df"
   ]
  },
  {
   "cell_type": "code",
   "execution_count": null,
   "metadata": {},
   "outputs": [],
   "source": [
    "set_year = {}\n",
    "for set_id in set_list['data']:\n",
    "    set_year[set_id['code']] = set_id['releaseDate'][0:4]\n",
    "set_year_df = pd.DataFrame.from_dict(set_year, orient='index')\n",
    "set_year_df.reset_index(inplace= True) \n",
    "set_year_df.rename(columns={'index': 'set_name', 0:'set_year'},inplace= True) \n",
    "set_year_df"
   ]
  },
  {
   "cell_type": "code",
   "execution_count": null,
   "metadata": {},
   "outputs": [],
   "source": [
    "modern_card_counts_df = modern_card_counts_df.merge(set_year_df, on = 'set_name', how = 'left')"
   ]
  },
  {
   "cell_type": "code",
   "execution_count": null,
   "metadata": {},
   "outputs": [],
   "source": [
    "# Grouping by 'set_year' and 'set_name', and summing up 'total_count'\n",
    "grouped_data = modern_card_counts_df.groupby(['set_year','set_name'])['total_count'].sum().unstack().fillna(0)\n",
    "\n",
    "# Creating a DataFrame with 'set_name' as a column\n",
    "sets = pd.DataFrame({'set_name': grouped_data.columns})\n",
    "\n",
    "# Merging with 'set_year_df' to get the release year\n",
    "sets = pd.merge(sets, set_year_df, on='set_name', how='left')\n",
    "sets\n",
    "\n",
    "# Plotting the data as a stacked bar chart\n",
    "ax = grouped_data.plot(kind='bar', stacked=True)\n",
    "\n",
    "# Title and axis labels\n",
    "plt.title('Card Counts by Set Name and Year')\n",
    "plt.xlabel('Year')\n",
    "plt.ylabel('Total Card Count')\n",
    "\n",
    "# Modifying legend to include the year in set name and order by set name\n",
    "handles, labels = ax.get_legend_handles_labels()\n",
    "new_labels = [f'{label} - {year}' for label, year in zip(sets['set_name'], sets['set_year'])]\n",
    "ax.legend(handles, new_labels, title='Set Name', loc='upper left', bbox_to_anchor=(1, 1))\n",
    "\n",
    "plt.show()"
   ]
  },
  {
   "cell_type": "code",
   "execution_count": null,
   "metadata": {},
   "outputs": [],
   "source": [
    "# Very limited Graph as a proof of concept\n",
    "modern_card_counts_df.groupby('set_year')['total_count'].sum().plot(kind = 'bar')"
   ]
  },
  {
   "cell_type": "code",
   "execution_count": null,
   "metadata": {},
   "outputs": [],
   "source": [
    "plt = ptd.create_base_graph(modern_card_counts_df,(255/255,122/255,14/255))\n",
    "plt.axvline(x=10.0, color='blue', linestyle='--')\n",
    "plt.text(10.2, 100000, 'Modern Legal', color = 'black', fontsize = 10)\n",
    "plt.axvline(x=25.5, color='black', linestyle='--')\n",
    "plt.text(22, 130000, 'Fire Design', color = 'black', fontsize = 10)\n",
    "plt.axvline(x=28, color='purple', linestyle='--')\n",
    "plt.text(28.4, 130000, 'MH2', color = 'black', fontsize = 10)\n",
    "plt.margins(x=0)"
   ]
  },
  {
   "cell_type": "markdown",
   "metadata": {},
   "source": [
    "### Pioneer Data"
   ]
  },
  {
   "cell_type": "code",
   "execution_count": null,
   "metadata": {},
   "outputs": [],
   "source": [
    "base_path: str = os.path.join(DATA_DIRECTORY, '2023')\n",
    "pioneer_card_counts_df, pioneer_player_counts_df = ltd.load_format_card_counts(base_path, 'pioneer')\n",
    "pioneer_card_counts_df"
   ]
  },
  {
   "cell_type": "code",
   "execution_count": null,
   "metadata": {},
   "outputs": [],
   "source": [
    "pioneer_card_counts_df = add_back_face(pioneer_card_counts_df)\n",
    "pioneer_card_counts_df "
   ]
  },
  {
   "cell_type": "code",
   "execution_count": null,
   "metadata": {},
   "outputs": [],
   "source": [
    "for name in pioneer_card_counts_df['card_name']:\n",
    "    if \"Fable\" in name:\n",
    "        print(name)"
   ]
  },
  {
   "cell_type": "code",
   "execution_count": null,
   "metadata": {},
   "outputs": [],
   "source": [
    "pioneer_card_counts_df = pioneer_card_counts_df.merge(cards_set_df, on = 'card_name', how = 'left')\n",
    "pioneer_card_counts_df"
   ]
  },
  {
   "cell_type": "code",
   "execution_count": null,
   "metadata": {},
   "outputs": [],
   "source": [
    "pioneer_card_counts_df = pioneer_card_counts_df.merge(set_year_df, on = 'set_name', how = 'left', copy = True)\n",
    "pioneer_card_counts_df"
   ]
  },
  {
   "cell_type": "code",
   "execution_count": null,
   "metadata": {},
   "outputs": [],
   "source": [
    "plt = ptd.create_base_graph(pioneer_card_counts_df, (9/255, 121/255, 105/255))\n",
    "plt.axvline(x=19.2, color='blue', linestyle='--')\n",
    "plt.text(16, 70000, 'Pioneer Legal', color = 'black', fontsize = 10)\n",
    "plt.axvline(x=25.5, color='black', linestyle='--')\n",
    "plt.text(22.7, 70000, 'Fire Design', color = 'black', fontsize = 10)\n",
    "plt.show()"
   ]
  },
  {
   "cell_type": "markdown",
   "metadata": {},
   "source": [
    "## Legacy"
   ]
  },
  {
   "cell_type": "code",
   "execution_count": null,
   "metadata": {},
   "outputs": [],
   "source": [
    "base_path: str = os.path.join(DATA_DIRECTORY, '2023')\n",
    "legacy_card_counts_df, legacy_player_counts_df = ltd.load_format_card_counts(base_path, 'legacy')\n",
    "legacy_card_counts_df"
   ]
  },
  {
   "cell_type": "code",
   "execution_count": null,
   "metadata": {},
   "outputs": [],
   "source": [
    "legacy_card_counts_df = add_back_face(legacy_card_counts_df)\n",
    "legacy_card_counts_df"
   ]
  },
  {
   "cell_type": "code",
   "execution_count": null,
   "metadata": {},
   "outputs": [],
   "source": [
    "for name in legacy_card_counts_df['card_name']:\n",
    "    if \"Fable\" in name:\n",
    "        print(name)"
   ]
  },
  {
   "cell_type": "code",
   "execution_count": null,
   "metadata": {},
   "outputs": [],
   "source": [
    "legacy_card_counts_df = legacy_card_counts_df.merge(cards_set_df, on = 'card_name', how = 'left')\n",
    "legacy_card_counts_df"
   ]
  },
  {
   "cell_type": "code",
   "execution_count": null,
   "metadata": {},
   "outputs": [],
   "source": [
    "legacy_card_counts_df = legacy_card_counts_df.merge(set_year_df, on = 'set_name', how = 'left', copy = True)\n",
    "legacy_card_counts_df"
   ]
  },
  {
   "cell_type": "code",
   "execution_count": null,
   "metadata": {},
   "outputs": [],
   "source": [
    "plt = ptd.create_base_graph(legacy_card_counts_df, (255/255, 215/255, 0/255))\n",
    "plt.axvline(x=25.5, color='black', linestyle='--')\n",
    "plt.text(22.7, 30000, 'Fire Design', color = 'black', fontsize = 10)\n",
    "plt.axvline(x=28, color='purple', linestyle='--')\n",
    "plt.text(28.4, 35000, 'MH2', color = 'black', fontsize = 10)\n",
    "plt.show()\n"
   ]
  },
  {
   "cell_type": "code",
   "execution_count": null,
   "metadata": {},
   "outputs": [],
   "source": []
  }
 ],
 "metadata": {
  "kernelspec": {
   "display_name": "Python 3",
   "language": "python",
   "name": "python3"
  },
  "language_info": {
   "codemirror_mode": {
    "name": "ipython",
    "version": 3
   },
   "file_extension": ".py",
   "mimetype": "text/x-python",
   "name": "python",
   "nbconvert_exporter": "python",
   "pygments_lexer": "ipython3",
   "version": "3.10.11"
  }
 },
 "nbformat": 4,
 "nbformat_minor": 2
}
