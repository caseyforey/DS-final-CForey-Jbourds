{
 "cells": [
  {
   "cell_type": "code",
   "execution_count": null,
   "metadata": {},
   "outputs": [],
   "source": [
    "\"\"\"\n",
    "sets.ipynb\n",
    "\n",
    "Jupyter Notebook to perform analysis on card sets.\n",
    "\n",
    "Author: Jordan Bourdeau, Casey Forey\n",
    "Date Created: 4/7/24\n",
    "\"\"\""
   ]
  },
  {
   "cell_type": "code",
   "execution_count": null,
   "metadata": {},
   "outputs": [],
   "source": [
    "# Imports\n",
    "from importlib import reload\n",
    "import json\n",
    "from matplotlib import pyplot as plt\n",
    "import numpy as np\n",
    "import os\n",
    "import pandas as pd\n",
    "from sklearn.ensemble import IsolationForest\n",
    "from statsmodels.stats.proportion import proportions_ztest\n",
    "\n",
    "from src import constants as c\n",
    "from src.calculate import calculate_market_data as cmd\n",
    "from src.calculate import calculate_set_data as csd\n",
    "from src.load import load_card_data as lcd\n",
    "from src.load import load_set_data as lsd\n",
    "from src.load import load_utils\n",
    "from src.plot import plot_set_data as psd\n",
    "from src.plot import plot_utils"
   ]
  },
  {
   "cell_type": "code",
   "execution_count": null,
   "metadata": {},
   "outputs": [],
   "source": [
    "reload(load_utils)\n",
    "\n",
    "# Load dataset\n",
    "all_printings_filepath: str = os.path.join(c.DATA_DIRECTORY, 'AllPrintings.json')\n",
    "all_printings: dict = load_utils.load_json_data(all_printings_filepath)"
   ]
  },
  {
   "cell_type": "code",
   "execution_count": null,
   "metadata": {},
   "outputs": [],
   "source": [
    "reload(lsd)\n",
    "\n",
    "sets = lsd.load_set_and_release_year()\n",
    "sets[sets['set_code'] == 'LTR']"
   ]
  },
  {
   "cell_type": "code",
   "execution_count": null,
   "metadata": {},
   "outputs": [],
   "source": [
    "plot_utils.plot_dataframe_as_table(sets.head(), os.path.join(c.IMAGE_DIRECTORY, 'original_set_list_df.png'))"
   ]
  },
  {
   "cell_type": "code",
   "execution_count": null,
   "metadata": {},
   "outputs": [],
   "source": [
    "reload(lsd)\n",
    "\n",
    "lsd.save_format_set_ban_counts(all_printings, 'modern')"
   ]
  },
  {
   "cell_type": "code",
   "execution_count": null,
   "metadata": {},
   "outputs": [],
   "source": [
    "reload(lcd)\n",
    "\n",
    "df = lcd.load_first_card_printing_in_format('modern', all_printings)\n",
    "df"
   ]
  },
  {
   "cell_type": "code",
   "execution_count": null,
   "metadata": {},
   "outputs": [],
   "source": [
    "reload(lsd)\n",
    "\n",
    "# Augmenting set data with tournament data and number of banend cards\n",
    "set_card_usages_and_bans: pd.DataFrame = lsd.load_augmented_set_data(all_printings, 'modern')"
   ]
  },
  {
   "cell_type": "code",
   "execution_count": null,
   "metadata": {},
   "outputs": [],
   "source": [
    "plot_utils.plot_dataframe_as_table(set_card_usages_and_bans.head(), os.path.join(c.IMAGE_DIRECTORY, 'augmented_set_df.png'))"
   ]
  },
  {
   "cell_type": "code",
   "execution_count": null,
   "metadata": {},
   "outputs": [],
   "source": [
    "reload(csd)\n",
    "reload(plot_utils)\n",
    "\n",
    "np.random.seed(0)\n",
    "\n",
    "# Selecting numerical columns to train the model on\n",
    "columns_for_model = ['total_count', 'num_banned', 'mean_price', 'median_price', 'std_price']\n",
    "data_for_model = set_card_usages_and_bans[columns_for_model]\n",
    "\n",
    "outliers = csd.find_set_outliers(set_card_usages_and_bans, columns_for_model)\n",
    "\n",
    "print(f'Found {len(outliers)} outliers')\n",
    "outliers_after_fire_design: pd.DataFrame = outliers[outliers['release_year'] >= 2019]\n",
    "print(f'{(len(outliers_after_fire_design) / len(outliers)) * 100:.2f}% of outlier sets came after the fire design principle.')\n",
    "\n",
    "trimmed_outliers: pd.DataFrame = outliers.drop(['set_name', 'median_price', 'release_month'], axis=1)\n",
    "plot_utils.plot_dataframe_as_table(trimmed_outliers, os.path.join(c.IMAGE_DIRECTORY, 'outliers.png'))"
   ]
  },
  {
   "cell_type": "code",
   "execution_count": null,
   "metadata": {},
   "outputs": [],
   "source": [
    "reload(psd)\n",
    "\n",
    "psd.plot_outlier_distribution(outliers, 'modern')"
   ]
  },
  {
   "cell_type": "code",
   "execution_count": null,
   "metadata": {},
   "outputs": [],
   "source": [
    "reload(psd)\n",
    "\n",
    "psd.plot_set_table(set_card_usages_and_bans)"
   ]
  },
  {
   "cell_type": "code",
   "execution_count": null,
   "metadata": {},
   "outputs": [],
   "source": [
    "# Do two-sample proportion z-test on number of outliers\n",
    "num_sets_per_year_df: pd.DataFrame = set_card_usages_and_bans \\\n",
    "    .groupby(['release_year']) \\\n",
    "    .size() \\\n",
    "    .reset_index() \\\n",
    "    .rename(columns={0: 'count'})\n",
    "\n",
    "sets_after_2019: int = num_sets_per_year_df[num_sets_per_year_df['release_year'] >= 2019]['count'].sum()\n",
    "sets_before_2019: int = num_sets_per_year_df[num_sets_per_year_df['release_year'] < 2019]['count'].sum()\n",
    "\n",
    "print(f'Number of sets before 2019: {sets_before_2019}')\n",
    "print(f'Number of sets after 2019: {sets_after_2019}')\n",
    "\n",
    "outliers_grouped_by_year: pd.DataFrame = outliers \\\n",
    "    .groupby(['release_year']) \\\n",
    "    .size() \\\n",
    "    .reset_index() \\\n",
    "    .rename(columns={0: 'count'})\n",
    "\n",
    "outliers_after_2019: int = outliers_grouped_by_year[outliers_grouped_by_year['release_year'] >= 2019]['count'].sum()\n",
    "outliers_before_2019: int = outliers_grouped_by_year[outliers_grouped_by_year['release_year'] < 2019]['count'].sum()\n",
    "\n",
    "print(f'Number of outliers before 2019: {outliers_before_2019}')\n",
    "print(f'Number of outliers after 2019: {outliers_after_2019}')\n",
    "\n",
    "expected_proportion: float = sets_after_2019 / (sets_after_2019 + sets_before_2019)\n",
    "actual_proportion: float = outliers_after_2019 / (outliers_after_2019 + outliers_before_2019)\n",
    "\n",
    "print(f'Expected Proportion of Outliers after 2019: {expected_proportion * 100:.2f}%')\n",
    "print(f'Actual Proportion of Outliers after 2019: {actual_proportion * 100:.2f}%')\n",
    "\n",
    "# Perform z-test\n",
    "count: int = outliers_after_2019\n",
    "nobs: int = outliers_after_2019 + outliers_before_2019\n",
    "stat, pval = proportions_ztest(count, nobs, value=expected_proportion, alternative='larger')\n",
    "\n",
    "# Output the results\n",
    "print(\"Test Statistic (z-score):\", stat)\n",
    "print(\"P-value:\", pval)"
   ]
  },
  {
   "cell_type": "code",
   "execution_count": null,
   "metadata": {},
   "outputs": [],
   "source": [
    "num_sets_per_year_df"
   ]
  },
  {
   "cell_type": "code",
   "execution_count": null,
   "metadata": {},
   "outputs": [],
   "source": [
    "# Alternate test without LCI point included\n",
    "# Do two-sample proportion z-test on number of outliers\n",
    "num_sets_per_year_df: pd.DataFrame = set_card_usages_and_bans \\\n",
    "    .groupby(['release_year']) \\\n",
    "    .size() \\\n",
    "    .reset_index() \\\n",
    "    .rename(columns={0: 'count'})\n",
    "\n",
    "sets_after_2019: int = num_sets_per_year_df[num_sets_per_year_df['release_year'] >= 2019]['count'].sum()\n",
    "sets_before_2019: int = num_sets_per_year_df[num_sets_per_year_df['release_year'] < 2019]['count'].sum()\n",
    "\n",
    "print(f'Number of sets before 2019: {sets_before_2019}')\n",
    "print(f'Number of sets after 2019: {sets_after_2019}')\n",
    "\n",
    "outliers_grouped_by_year: pd.DataFrame = outliers \\\n",
    "    .groupby(['release_year']) \\\n",
    "    .size() \\\n",
    "    .reset_index() \\\n",
    "    .rename(columns={0: 'count'})\n",
    "\n",
    "outliers_after_2019: int = outliers_grouped_by_year[outliers_grouped_by_year['release_year'] >= 2019]['count'].sum()\n",
    "outliers_before_2019: int = outliers_grouped_by_year[outliers_grouped_by_year['release_year'] < 2019]['count'].sum()\n",
    "\n",
    "print(f'Number of outliers before 2019: {outliers_before_2019}')\n",
    "print(f'Number of outliers after 2019: {outliers_after_2019}')\n",
    "\n",
    "expected_proportion: float = sets_after_2019 / (sets_after_2019 + sets_before_2019)\n",
    "actual_proportion: float = outliers_after_2019 / (outliers_after_2019 + outliers_before_2019)\n",
    "\n",
    "print(f'Expected Proportion of Outliers after 2019: {expected_proportion * 100:.2f}%')\n",
    "print(f'Actual Proportion of Outliers after 2019: {actual_proportion * 100:.2f}%')\n",
    "\n",
    "# Perform z-test\n",
    "count: int = outliers_after_2019 - 1\n",
    "nobs: int = outliers_after_2019 + outliers_before_2019 - 1\n",
    "stat, pval = proportions_ztest(count, nobs, value=expected_proportion, alternative='larger')\n",
    "\n",
    "# Output the results\n",
    "print(\"Test Statistic (z-score):\", stat)\n",
    "print(\"P-value:\", pval)"
   ]
  }
 ],
 "metadata": {
  "kernelspec": {
   "display_name": "base",
   "language": "python",
   "name": "python3"
  },
  "language_info": {
   "codemirror_mode": {
    "name": "ipython",
    "version": 3
   },
   "file_extension": ".py",
   "mimetype": "text/x-python",
   "name": "python",
   "nbconvert_exporter": "python",
   "pygments_lexer": "ipython3",
   "version": "3.11.5"
  }
 },
 "nbformat": 4,
 "nbformat_minor": 2
}
