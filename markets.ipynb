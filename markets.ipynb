{
 "cells": [
  {
   "cell_type": "code",
   "execution_count": 1,
   "metadata": {},
   "outputs": [
    {
     "data": {
      "text/plain": [
       "'\\nmarkets.ipynb\\n\\nJupyter Notebook to perform analysis on card market data.\\n\\nAuthor: Jordan Bourdeau\\nDate Created: 4/7/24\\n'"
      ]
     },
     "execution_count": 1,
     "metadata": {},
     "output_type": "execute_result"
    }
   ],
   "source": [
    "\"\"\"\n",
    "markets.ipynb\n",
    "\n",
    "Jupyter Notebook to perform analysis on card market data.\n",
    "\n",
    "Author: Jordan Bourdeau\n",
    "Date Created: 4/7/24\n",
    "\"\"\""
   ]
  },
  {
   "cell_type": "code",
   "execution_count": 2,
   "metadata": {},
   "outputs": [],
   "source": [
    "# Imports\n",
    "import json \n",
    "import numpy as np\n",
    "import os \n",
    "import pandas as pd\n",
    "\n",
    "from src.load.load_set_data import get_card_sets_uuids, get_unique_card_names"
   ]
  },
  {
   "cell_type": "code",
   "execution_count": 3,
   "metadata": {},
   "outputs": [],
   "source": [
    "# Constants\n",
    "DATA_DIRECTORY: str = 'data/'"
   ]
  },
  {
   "cell_type": "code",
   "execution_count": 4,
   "metadata": {},
   "outputs": [],
   "source": [
    "all_prices_filepath: str = os.path.join(DATA_DIRECTORY, 'AllPricesToday.json')\n",
    "atomic_cards_filepath: str = os.path.join(DATA_DIRECTORY, 'AtomicCards.json')\n",
    "all_printings_filepath: str = os.path.join(DATA_DIRECTORY, 'AllPrintings.json')"
   ]
  },
  {
   "cell_type": "code",
   "execution_count": 5,
   "metadata": {},
   "outputs": [],
   "source": [
    "def load_json_data(filepath: str) -> dict:\n",
    "    with open(filepath, 'r') as infile:\n",
    "        json_data = json.load(infile)\n",
    "        return json_data"
   ]
  },
  {
   "cell_type": "code",
   "execution_count": 6,
   "metadata": {},
   "outputs": [],
   "source": [
    "all_prices: dict = load_json_data(all_prices_filepath)\n",
    "atomic_cards: dict = load_json_data(atomic_cards_filepath)\n",
    "all_printings: dict = load_json_data(all_printings_filepath)"
   ]
  },
  {
   "cell_type": "code",
   "execution_count": 7,
   "metadata": {},
   "outputs": [],
   "source": [
    "# Get unique card names and save it to a file for future us\n",
    "unique_card_names: np.array = get_unique_card_names(all_printings)\n",
    "output_path: str = os.path.join(DATA_DIRECTORY, 'unique_card_names')\n",
    "np.save(output_path, unique_card_names)\n"
   ]
  },
  {
   "cell_type": "code",
   "execution_count": 8,
   "metadata": {},
   "outputs": [],
   "source": [
    "# Get the set and UUID information\n",
    "card_sets_uuids: dict[str: list[str]] = get_card_sets_uuids(all_printings, unique_card_names)\n"
   ]
  }
 ],
 "metadata": {
  "kernelspec": {
   "display_name": "base",
   "language": "python",
   "name": "python3"
  },
  "language_info": {
   "codemirror_mode": {
    "name": "ipython",
    "version": 3
   },
   "file_extension": ".py",
   "mimetype": "text/x-python",
   "name": "python",
   "nbconvert_exporter": "python",
   "pygments_lexer": "ipython3",
   "version": "3.11.5"
  }
 },
 "nbformat": 4,
 "nbformat_minor": 2
}
