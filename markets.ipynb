{
 "cells": [
  {
   "cell_type": "code",
   "execution_count": null,
   "metadata": {},
   "outputs": [],
   "source": [
    "\"\"\"\n",
    "markets.ipynb\n",
    "\n",
    "Jupyter Notebook to perform analysis on card market data.\n",
    "\n",
    "Author: Jordan Bourdeau\n",
    "Date Created: 4/7/24\n",
    "\"\"\""
   ]
  },
  {
   "cell_type": "code",
   "execution_count": null,
   "metadata": {},
   "outputs": [],
   "source": [
    "# Imports\n",
    "import datetime\n",
    "from importlib import reload\n",
    "import json \n",
    "from matplotlib import pyplot as plt\n",
    "import numpy as np\n",
    "import os \n",
    "import pandas as pd\n",
    "\n",
    "from src import constants as c\n",
    "import src.calculate.calculate_market_data as cmd\n",
    "import src.load.load_price_data as lpd\n",
    "import src.load.load_set_data as lsd\n",
    "import src.load.load_utils as load_utils\n",
    "import src.plot.plot_set_data as psd"
   ]
  },
  {
   "cell_type": "markdown",
   "metadata": {},
   "source": [
    "### Get a DataFrame with a card name, lowest price + the set it's from, UUID, and release year"
   ]
  },
  {
   "cell_type": "markdown",
   "metadata": {},
   "source": [
    "Note: Some cards may not have a MTGO online version, for instance if there is a full art version only sold in paper copies."
   ]
  },
  {
   "cell_type": "code",
   "execution_count": null,
   "metadata": {},
   "outputs": [],
   "source": [
    "# Load dataset\n",
    "reload(load_utils)\n",
    "\n",
    "all_printings_filepath: str = os.path.join(c.DATA_DIRECTORY, 'AllPrintings.json')\n",
    "all_printings: dict = load_utils.load_json_data(all_printings_filepath)"
   ]
  },
  {
   "cell_type": "code",
   "execution_count": null,
   "metadata": {},
   "outputs": [],
   "source": [
    "reload(lpd)\n",
    "\n",
    "card_price_df: pd.DataFrame = lpd.load_card_price_df()\n",
    "card_price_df.head()"
   ]
  },
  {
   "cell_type": "code",
   "execution_count": null,
   "metadata": {},
   "outputs": [],
   "source": [
    "reload(cmd)\n",
    "\n",
    "aggregate_data: pd.DataFrame = cmd.calculate_aggregate_set_prices(card_price_df)\n",
    "aggregate_data.head()"
   ]
  },
  {
   "cell_type": "code",
   "execution_count": null,
   "metadata": {},
   "outputs": [],
   "source": [
    "reload(psd)\n",
    "\n",
    "psd.plot_average_card_price_over_time(card_price_df, datetime.date(2024, 3, 23))"
   ]
  },
  {
   "cell_type": "code",
   "execution_count": null,
   "metadata": {},
   "outputs": [],
   "source": [
    "reload(lsd)\n",
    "\n",
    "# Augmenting set data with tournament data and number of banend cards\n",
    "augmented_data: pd.DataFrame = lsd.load_augmented_set_data(all_printings, 'modern')\n",
    "augmented_data[augmented_data['set_code'] == 'MH2']"
   ]
  },
  {
   "cell_type": "code",
   "execution_count": null,
   "metadata": {},
   "outputs": [],
   "source": [
    "reload(psd)\n",
    "\n",
    "metrics: list[str] = ['mean_price', 'std_price']\n",
    "psd.plot_superimposed_max_min_metrics_by_year(augmented_data, metrics, datetime.date(2024, 3, 23))"
   ]
  },
  {
   "cell_type": "code",
   "execution_count": null,
   "metadata": {},
   "outputs": [],
   "source": [
    "reload(psd)\n",
    "\n",
    "metrics: list[str] = ['mean_price', 'median_price', 'std_price', 'num_banned', 'total_count']\n",
    "psd.plot_max_min_metrics_by_year(augmented_data, metrics, datetime.date(2024, 3, 23))"
   ]
  }
 ],
 "metadata": {
  "kernelspec": {
   "display_name": "base",
   "language": "python",
   "name": "python3"
  },
  "language_info": {
   "codemirror_mode": {
    "name": "ipython",
    "version": 3
   },
   "file_extension": ".py",
   "mimetype": "text/x-python",
   "name": "python",
   "nbconvert_exporter": "python",
   "pygments_lexer": "ipython3",
   "version": "3.11.5"
  }
 },
 "nbformat": 4,
 "nbformat_minor": 2
}
