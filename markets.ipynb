{
 "cells": [
  {
   "cell_type": "code",
   "execution_count": 1,
   "metadata": {},
   "outputs": [
    {
     "data": {
      "text/plain": [
       "'\\nmarkets.ipynb\\n\\nJupyter Notebook to perform analysis on card market data.\\n\\nAuthor: Jordan Bourdeau\\nDate Created: 4/7/24\\n'"
      ]
     },
     "execution_count": 1,
     "metadata": {},
     "output_type": "execute_result"
    }
   ],
   "source": [
    "\"\"\"\n",
    "markets.ipynb\n",
    "\n",
    "Jupyter Notebook to perform analysis on card market data.\n",
    "\n",
    "Author: Jordan Bourdeau\n",
    "Date Created: 4/7/24\n",
    "\"\"\""
   ]
  },
  {
   "cell_type": "code",
   "execution_count": 2,
   "metadata": {},
   "outputs": [],
   "source": [
    "# Imports\n",
    "import json \n",
    "import numpy as np\n",
    "import os \n",
    "import pandas as pd\n",
    "\n",
    "from src import constants as c\n",
    "import src.load.load_price_data as lpd\n",
    "import src.load.load_set_data as lsd\n",
    "import src.load.load_utils as load_utils"
   ]
  },
  {
   "cell_type": "markdown",
   "metadata": {},
   "source": [
    "### Get a DataFrame with a card name, lowest price + the set it's from, UUID, and release year"
   ]
  },
  {
   "cell_type": "markdown",
   "metadata": {},
   "source": [
    "Note: Some cards may not have a MTGO online version, for instance if there is a full art version only sold in paper copies."
   ]
  },
  {
   "cell_type": "code",
   "execution_count": 3,
   "metadata": {},
   "outputs": [
    {
     "data": {
      "text/html": [
       "<div>\n",
       "<style scoped>\n",
       "    .dataframe tbody tr th:only-of-type {\n",
       "        vertical-align: middle;\n",
       "    }\n",
       "\n",
       "    .dataframe tbody tr th {\n",
       "        vertical-align: top;\n",
       "    }\n",
       "\n",
       "    .dataframe thead th {\n",
       "        text-align: right;\n",
       "    }\n",
       "</style>\n",
       "<table border=\"1\" class=\"dataframe\">\n",
       "  <thead>\n",
       "    <tr style=\"text-align: right;\">\n",
       "      <th></th>\n",
       "      <th>card</th>\n",
       "      <th>set</th>\n",
       "      <th>uuid</th>\n",
       "      <th>price</th>\n",
       "      <th>rarity</th>\n",
       "      <th>currency</th>\n",
       "      <th>date</th>\n",
       "      <th>foil</th>\n",
       "      <th>release_year</th>\n",
       "    </tr>\n",
       "  </thead>\n",
       "  <tbody>\n",
       "    <tr>\n",
       "      <th>0</th>\n",
       "      <td>Thundering Mightmare</td>\n",
       "      <td>VOC</td>\n",
       "      <td>f3a63045-2260-518e-881b-23a0c11d7327</td>\n",
       "      <td>0.1</td>\n",
       "      <td>rare</td>\n",
       "      <td>USD</td>\n",
       "      <td>2024-03-23</td>\n",
       "      <td>normal</td>\n",
       "      <td>2021</td>\n",
       "    </tr>\n",
       "    <tr>\n",
       "      <th>1</th>\n",
       "      <td>Timin, Youthful Geist</td>\n",
       "      <td>VOC</td>\n",
       "      <td>d5d365d0-9026-5386-be59-5d8fd9f5caa3</td>\n",
       "      <td>0.1</td>\n",
       "      <td>rare</td>\n",
       "      <td>USD</td>\n",
       "      <td>2024-03-23</td>\n",
       "      <td>normal</td>\n",
       "      <td>2021</td>\n",
       "    </tr>\n",
       "    <tr>\n",
       "      <th>2</th>\n",
       "      <td>Haunted Library</td>\n",
       "      <td>VOC</td>\n",
       "      <td>9dcc9264-826f-5308-8027-ab4f88d4db9f</td>\n",
       "      <td>0.1</td>\n",
       "      <td>rare</td>\n",
       "      <td>USD</td>\n",
       "      <td>2024-03-23</td>\n",
       "      <td>normal</td>\n",
       "      <td>2021</td>\n",
       "    </tr>\n",
       "    <tr>\n",
       "      <th>3</th>\n",
       "      <td>Scion of Opulence</td>\n",
       "      <td>VOC</td>\n",
       "      <td>4aee0816-a8e6-5cc7-b5ae-c98f959c8ddb</td>\n",
       "      <td>0.1</td>\n",
       "      <td>rare</td>\n",
       "      <td>USD</td>\n",
       "      <td>2024-03-23</td>\n",
       "      <td>normal</td>\n",
       "      <td>2021</td>\n",
       "    </tr>\n",
       "    <tr>\n",
       "      <th>4</th>\n",
       "      <td>Markov Enforcer</td>\n",
       "      <td>VOC</td>\n",
       "      <td>24dfb421-6dfb-5d36-a995-a47076933ee5</td>\n",
       "      <td>0.1</td>\n",
       "      <td>rare</td>\n",
       "      <td>USD</td>\n",
       "      <td>2024-03-23</td>\n",
       "      <td>normal</td>\n",
       "      <td>2021</td>\n",
       "    </tr>\n",
       "  </tbody>\n",
       "</table>\n",
       "</div>"
      ],
      "text/plain": [
       "                    card  set                                  uuid  price  \\\n",
       "0   Thundering Mightmare  VOC  f3a63045-2260-518e-881b-23a0c11d7327    0.1   \n",
       "1  Timin, Youthful Geist  VOC  d5d365d0-9026-5386-be59-5d8fd9f5caa3    0.1   \n",
       "2        Haunted Library  VOC  9dcc9264-826f-5308-8027-ab4f88d4db9f    0.1   \n",
       "3      Scion of Opulence  VOC  4aee0816-a8e6-5cc7-b5ae-c98f959c8ddb    0.1   \n",
       "4        Markov Enforcer  VOC  24dfb421-6dfb-5d36-a995-a47076933ee5    0.1   \n",
       "\n",
       "  rarity currency        date    foil release_year  \n",
       "0   rare      USD  2024-03-23  normal         2021  \n",
       "1   rare      USD  2024-03-23  normal         2021  \n",
       "2   rare      USD  2024-03-23  normal         2021  \n",
       "3   rare      USD  2024-03-23  normal         2021  \n",
       "4   rare      USD  2024-03-23  normal         2021  "
      ]
     },
     "execution_count": 3,
     "metadata": {},
     "output_type": "execute_result"
    }
   ],
   "source": [
    "card_price_df: pd.DataFrame = lpd.load_card_price_df()\n",
    "card_price_df.head()"
   ]
  }
 ],
 "metadata": {
  "kernelspec": {
   "display_name": "base",
   "language": "python",
   "name": "python3"
  },
  "language_info": {
   "codemirror_mode": {
    "name": "ipython",
    "version": 3
   },
   "file_extension": ".py",
   "mimetype": "text/x-python",
   "name": "python",
   "nbconvert_exporter": "python",
   "pygments_lexer": "ipython3",
   "version": "3.11.5"
  }
 },
 "nbformat": 4,
 "nbformat_minor": 2
}
