{
 "cells": [
  {
   "cell_type": "code",
   "execution_count": null,
   "metadata": {},
   "outputs": [],
   "source": [
    "\"\"\"\n",
    "markets.ipynb\n",
    "\n",
    "Jupyter Notebook to perform analysis on card market data.\n",
    "\n",
    "Author: Jordan Bourdeau\n",
    "Date Created: 4/7/24\n",
    "\"\"\""
   ]
  },
  {
   "cell_type": "code",
   "execution_count": null,
   "metadata": {},
   "outputs": [],
   "source": [
    "%matplotlib inline\n",
    "# Imports\n",
    "import datetime\n",
    "from importlib import reload\n",
    "import json \n",
    "from matplotlib import pyplot as plt\n",
    "import numpy as np\n",
    "import os \n",
    "import pandas as pd\n",
    "import seaborn as sns\n",
    "\n",
    "from src import constants as c\n",
    "import src.calculate.calculate_market_data as cmd\n",
    "import src.load.load_price_data as lpd\n",
    "import src.load.load_set_data as lsd\n",
    "import src.load.load_tournament_data as ltd\n",
    "import src.load.load_utils as load_utils\n",
    "import src.plot.plot_set_data as psd"
   ]
  },
  {
   "cell_type": "markdown",
   "metadata": {},
   "source": [
    "### Get a DataFrame with a card name, lowest price + the set it's from, UUID, and release year"
   ]
  },
  {
   "cell_type": "markdown",
   "metadata": {},
   "source": [
    "Note: Some cards may not have a MTGO online version, for instance if there is a full art version only sold in paper copies."
   ]
  },
  {
   "cell_type": "code",
   "execution_count": null,
   "metadata": {},
   "outputs": [],
   "source": [
    "# Load dataset\n",
    "reload(load_utils)\n",
    "\n",
    "all_printings_filepath: str = os.path.join(c.DATA_DIRECTORY, 'AllPrintings.json')\n",
    "all_printings: dict = load_utils.load_json_data(all_printings_filepath)"
   ]
  },
  {
   "cell_type": "code",
   "execution_count": null,
   "metadata": {},
   "outputs": [],
   "source": [
    "reload(lpd)\n",
    "\n",
    "card_price_df: pd.DataFrame = lpd.load_card_price_df()\n",
    "card_price_df.rename(columns={'card': 'card_name'}, inplace=True)\n",
    "card_price_df.head()"
   ]
  },
  {
   "cell_type": "code",
   "execution_count": null,
   "metadata": {},
   "outputs": [],
   "source": [
    "reload(cmd)\n",
    "\n",
    "aggregate_data: pd.DataFrame = cmd.calculate_aggregate_set_prices(card_price_df)\n",
    "aggregate_data"
   ]
  },
  {
   "cell_type": "code",
   "execution_count": null,
   "metadata": {},
   "outputs": [],
   "source": [
    "# Aggregate the aggregated data\n",
    "# Group by 'set_code' and aggregate mean, median, and std\n",
    "aggregate_data.agg({\n",
    "    'mean_price': ['mean', 'median', 'std'],\n",
    "    'median_price': ['mean', 'median', 'std'],\n",
    "    'std_price': ['mean', 'median', 'std']\n",
    "})"
   ]
  },
  {
   "cell_type": "code",
   "execution_count": null,
   "metadata": {},
   "outputs": [],
   "source": [
    "reload(psd)\n",
    "%matplotlib inline\n",
    "\n",
    "legend_params: list[tuple] = [\n",
    "    (1993, 'green', '--', 'Magic First Comes Out (1993)'),\n",
    "    (2011, 'orange', '--', 'Start of Modern Format (2011)'),\n",
    "    (2019, 'red', '--', 'Fire Design Principle Implemented (2019)'),\n",
    "    (2021, 'blue', '--', 'Modern Horizons 2 Released (2021)'),\n",
    "]\n",
    "\n",
    "psd.plot_average_card_price_over_time(card_price_df, datetime.date(2024, 3, 23), legend_params=legend_params)"
   ]
  },
  {
   "cell_type": "code",
   "execution_count": null,
   "metadata": {},
   "outputs": [],
   "source": [
    "reload(lsd)\n",
    "\n",
    "# Augmenting set data with tournament data and number of banend cards\n",
    "augmented_data: pd.DataFrame = lsd.load_augmented_set_data(all_printings, 'modern')\n",
    "augmented_data[augmented_data['set_code'] == 'MH2']"
   ]
  },
  {
   "cell_type": "code",
   "execution_count": null,
   "metadata": {},
   "outputs": [],
   "source": [
    "reload(psd)\n",
    "\n",
    "legend_params: list[tuple] = [\n",
    "    (2003, 'green', '--', 'Earliest Modern Legal Set (2003)'),\n",
    "    (2019, 'red', '--', 'Fire Design Principle Implemented (2019)'),\n",
    "    (2021, 'blue', '--', 'Modern Horizons 2 Released (2021)'),\n",
    "]\n",
    "\n",
    "metrics: list[str] = ['mean_price', 'std_price']\n",
    "psd.plot_superimposed_max_min_metrics_by_year(augmented_data, metrics, datetime.date(2024, 3, 23), 'modern', legend_params=legend_params)"
   ]
  },
  {
   "cell_type": "code",
   "execution_count": null,
   "metadata": {},
   "outputs": [],
   "source": [
    "reload(psd)\n",
    "\n",
    "legend_params: list[tuple] = [\n",
    "    (2003, 'green', '--', 'Earliest Modern Legal Set (2003)'),\n",
    "    (2019, 'red', '--', 'Fire Design Principle Implemented (2019)'),\n",
    "    (2021, 'blue', '--', 'Modern Horizons 2 Released (2021)'),\n",
    "]\n",
    "\n",
    "metrics: list[str] = ['mean_price', 'median_price', 'std_price', 'num_banned', 'total_count']\n",
    "psd.plot_max_min_metrics_by_year(augmented_data, metrics, datetime.date(2024, 3, 23), 'modern', legend_params)"
   ]
  },
  {
   "cell_type": "code",
   "execution_count": null,
   "metadata": {},
   "outputs": [],
   "source": [
    "base_path: str = os.path.join(c.DATA_DIRECTORY, '2023')\n",
    "modern_card_counts_df, player_counts_df = ltd.load_format_card_counts(base_path, 'modern')\n",
    "modern_card_counts_df"
   ]
  },
  {
   "cell_type": "code",
   "execution_count": null,
   "metadata": {},
   "outputs": [],
   "source": [
    "# Merge the card data with its tournament usage and get a relative frequency of use\n",
    "card_price_and_usage: pd.DataFrame = card_price_df.merge(modern_card_counts_df, on='card_name')\n",
    "total_count: int = card_price_and_usage['total_count'].sum()\n",
    "card_price_and_usage['percent'] = card_price_and_usage['total_count'] / total_count * 100\n",
    "card_price_and_usage"
   ]
  },
  {
   "cell_type": "code",
   "execution_count": null,
   "metadata": {},
   "outputs": [],
   "source": [
    "# Repeat analysis for 1-12-2024, the day before the first 2024 set was released\n",
    "all_prices_today: dict = load_utils.load_json_data(os.path.join(c.DATA_DIRECTORY, 'AllPricesToday.json'))"
   ]
  },
  {
   "cell_type": "code",
   "execution_count": null,
   "metadata": {},
   "outputs": [],
   "source": [
    "all_prices_today['data']['00010d56-fe38-5e35-8aed-518019aa36a5']"
   ]
  },
  {
   "cell_type": "code",
   "execution_count": null,
   "metadata": {},
   "outputs": [],
   "source": [
    "# Repeat analysis for 1-12-2024, the day before the first 2024 set was released\n",
    "all_prices_master: dict = load_utils.load_json_data(os.path.join(c.DATA_DIRECTORY, 'AllPrices.json'))"
   ]
  },
  {
   "cell_type": "code",
   "execution_count": null,
   "metadata": {},
   "outputs": [],
   "source": [
    "all_prices_master['data']"
   ]
  },
  {
   "cell_type": "code",
   "execution_count": null,
   "metadata": {},
   "outputs": [],
   "source": [
    "lowest_price_df_from_data: pd.DataFrame = pd.read_csv(os.path.join(c.DATA_DIRECTORY, c.CACHE, 'lowest_price_printings_2024-01-12.csv'))\n",
    "set_release_years: pd.DataFrame = pd.read_csv(os.path.join(c.DATA_DIRECTORY, c.CACHE, 'set_release_years.csv'))\n",
    "set_release_years.head()"
   ]
  },
  {
   "cell_type": "code",
   "execution_count": null,
   "metadata": {},
   "outputs": [],
   "source": [
    "reload(lpd)\n",
    "\n",
    "card_price_df_from_date: pd.DataFrame = lpd.load_card_price_df(date_string='2024-01-12')"
   ]
  },
  {
   "cell_type": "code",
   "execution_count": null,
   "metadata": {},
   "outputs": [],
   "source": [
    "# Repeat analysis with data from the specific date\n",
    "\n",
    "reload(psd)\n",
    "%matplotlib inline\n",
    "\n",
    "legend_params: list[tuple] = [\n",
    "    (1993, 'green', '--', 'Magic First Comes Out (1993)'),\n",
    "    (2011, 'orange', '--', 'Start of Modern Format (2011)'),\n",
    "    (2019, 'red', '--', 'Fire Design Principle Implemented (2019)'),\n",
    "    (2021, 'blue', '--', 'Modern Horizons 2 Released (2021)'),\n",
    "]\n",
    "\n",
    "psd.plot_average_card_price_over_time(card_price_df_from_date, datetime.date(2024, 1, 12), legend_params=legend_params)"
   ]
  },
  {
   "cell_type": "code",
   "execution_count": null,
   "metadata": {},
   "outputs": [],
   "source": [
    "reload(lsd)\n",
    "\n",
    "# Augmenting set data with tournament data and number of banend cards\n",
    "augmented_data_from_date: pd.DataFrame = lsd.load_augmented_set_data(all_printings, 'modern', date_string='2024-01-12')\n",
    "augmented_data_from_date[augmented_data['set_code'] == 'MH2']"
   ]
  },
  {
   "cell_type": "code",
   "execution_count": null,
   "metadata": {},
   "outputs": [],
   "source": [
    "reload(psd)\n",
    "\n",
    "legend_params: list[tuple] = [\n",
    "    (2003, 'green', '--', 'Earliest Modern Legal Set (2003)'),\n",
    "    (2019, 'red', '--', 'Fire Design Principle Implemented (2019)'),\n",
    "    (2021, 'blue', '--', 'Modern Horizons 2 Released (2021)'),\n",
    "]\n",
    "\n",
    "metrics: list[str] = ['mean_price', 'std_price']\n",
    "psd.plot_superimposed_max_min_metrics_by_year(augmented_data_from_date, metrics, datetime.date(2024, 1, 12), 'modern', legend_params=legend_params)"
   ]
  },
  {
   "cell_type": "code",
   "execution_count": null,
   "metadata": {},
   "outputs": [],
   "source": [
    "reload(psd)\n",
    "\n",
    "legend_params: list[tuple] = [\n",
    "    (2003, 'green', '--', 'Earliest Modern Legal Set (2003)'),\n",
    "    (2019, 'red', '--', 'Fire Design Principle Implemented (2019)'),\n",
    "    (2021, 'blue', '--', 'Modern Horizons 2 Released (2021)'),\n",
    "]\n",
    "\n",
    "metrics: list[str] = ['mean_price', 'median_price', 'std_price', 'num_banned', 'total_count']\n",
    "psd.plot_max_min_metrics_by_year(augmented_data_from_date, metrics, datetime.date(2024, 1, 12), 'modern', legend_params)"
   ]
  },
  {
   "cell_type": "code",
   "execution_count": null,
   "metadata": {},
   "outputs": [],
   "source": [
    "# # Create scatter plot with marginal histograms\n",
    "# sns.jointplot(data=card_price_and_usage, x='price', y='percent', hue='rarity', kind='kde', marginal_ticks=True)\n",
    "# plt.suptitle('% of Total Cards Played in Tournaments on Price and Rarity', y=1.02)\n",
    "# plt.xlabel('Price ($)')\n",
    "# plt.ylabel('% of Cards Played')\n",
    "# plt.xlim(0, 5)\n",
    "# plt.show()"
   ]
  },
  {
   "cell_type": "code",
   "execution_count": null,
   "metadata": {},
   "outputs": [],
   "source": [
    "# sns.kdeplot(data=card_price_and_usage, x='percent', y='price', hue='rarity', fill=True, cmap='viridis', levels=20, linewidths=1, alpha=0.5)\n",
    "# plt.title('% of Total Cards Played in Tournaments on Price and Rarity')\n",
    "# plt.ylabel('Price ($)')\n",
    "# plt.xlabel('% of Cards Played')\n",
    "# plt.xlim(0, 1.5)\n",
    "# plt.ylim(0, 5)\n",
    "# plt.show()"
   ]
  }
 ],
 "metadata": {
  "kernelspec": {
   "display_name": "base",
   "language": "python",
   "name": "python3"
  },
  "language_info": {
   "codemirror_mode": {
    "name": "ipython",
    "version": 3
   },
   "file_extension": ".py",
   "mimetype": "text/x-python",
   "name": "python",
   "nbconvert_exporter": "python",
   "pygments_lexer": "ipython3",
   "version": "3.11.5"
  }
 },
 "nbformat": 4,
 "nbformat_minor": 2
}
